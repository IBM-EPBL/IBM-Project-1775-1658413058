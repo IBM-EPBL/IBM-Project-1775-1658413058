{
  "nbformat": 4,
  "nbformat_minor": 0,
  "metadata": {
    "colab": {
      "provenance": [],
      "collapsed_sections": []
    },
    "kernelspec": {
      "name": "python3",
      "display_name": "Python 3"
    },
    "language_info": {
      "name": "python"
    },
    "accelerator": "GPU",
    "gpuClass": "standard"
  },
  "cells": [
    {
      "cell_type": "code",
      "execution_count": null,
      "metadata": {
        "id": "KQtlrsqBfupw"
      },
      "outputs": [],
      "source": [
        "import pandas as pd\n",
        "import numpy as np\n",
        "from tensorflow.keras.models import Sequential\n",
        "from tensorflow.keras import layers\n",
        "from tensorflow.keras.layers import Dense, Flatten, Conv2D, MaxPooling2D\n",
        "from tensorflow.keras.preprocessing.image import ImageDataGenerator\n"
      ]
    },
    {
      "cell_type": "code",
      "source": [
        "train_path = r'/content/drive/MyDrive/Colab Notebooks/ibm/nutra/dataset/ibm/TRAIN_SET'\n",
        "test_path = r'/content/drive/MyDrive/Colab Notebooks/ibm/nutra/dataset/ibm/TEST_SET'"
      ],
      "metadata": {
        "id": "ZLIdNOL_pXOu"
      },
      "execution_count": null,
      "outputs": []
    },
    {
      "cell_type": "markdown",
      "source": [
        "## Data Augmentation"
      ],
      "metadata": {
        "id": "YR4pbGXzp1Si"
      }
    },
    {
      "cell_type": "code",
      "source": [
        "train_datagen = ImageDataGenerator(rescale=1./255,shear_range=0.35, zoom_range=0.35, horizontal_flip=True)\n",
        "test_datagen = ImageDataGenerator(rescale=1./255)"
      ],
      "metadata": {
        "id": "Bixf6JBZpXTj"
      },
      "execution_count": null,
      "outputs": []
    },
    {
      "cell_type": "markdown",
      "source": [
        "### Data Augmentation on Dataset"
      ],
      "metadata": {
        "id": "yH-Wi3OYqJph"
      }
    },
    {
      "cell_type": "code",
      "source": [
        "x_train = train_datagen.flow_from_directory(train_path,\n",
        "                                            target_size=(64,64),\n",
        "                                            batch_size=30,\n",
        "                                            color_mode='rgb',\n",
        "                                            class_mode='sparse')\n",
        "\n",
        "x_test = test_datagen.flow_from_directory(test_path,\n",
        "                                            target_size=(64,64),\n",
        "                                            batch_size=30,\n",
        "                                            color_mode='rgb',\n",
        "                                            class_mode='sparse')"
      ],
      "metadata": {
        "colab": {
          "base_uri": "https://localhost:8080/"
        },
        "id": "QCTsKYm4pXX7",
        "outputId": "5a0b7140-eae7-4c07-cc17-c8e9639741f2"
      },
      "execution_count": null,
      "outputs": [
        {
          "output_type": "stream",
          "name": "stdout",
          "text": [
            "Found 4118 images belonging to 5 classes.\n",
            "Found 1233 images belonging to 5 classes.\n"
          ]
        }
      ]
    },
    {
      "cell_type": "code",
      "source": [
        "print(x_train.class_indices)\n",
        "print(x_test.class_indices)"
      ],
      "metadata": {
        "colab": {
          "base_uri": "https://localhost:8080/"
        },
        "id": "kSVVHQ9NpXc7",
        "outputId": "42076c5e-0f01-4883-f0fc-bb388a97328b"
      },
      "execution_count": null,
      "outputs": [
        {
          "output_type": "stream",
          "name": "stdout",
          "text": [
            "{'APPLES': 0, 'BANANA': 1, 'ORANGE': 2, 'PINEAPPLE': 3, 'WATERMELON': 4}\n",
            "{'APPLES': 0, 'BANANA': 1, 'ORANGE': 2, 'PINEAPPLE': 3, 'WATERMELON': 4}\n"
          ]
        }
      ]
    },
    {
      "cell_type": "code",
      "source": [
        "from collections import Counter as c\n",
        "c(x_train.labels)"
      ],
      "metadata": {
        "colab": {
          "base_uri": "https://localhost:8080/"
        },
        "id": "Zp8UBviHpXgK",
        "outputId": "09bb0329-5b2b-4945-ce54-a12d6c7b2db3"
      },
      "execution_count": null,
      "outputs": [
        {
          "output_type": "execute_result",
          "data": {
            "text/plain": [
              "Counter({0: 995, 1: 1354, 2: 1019, 3: 275, 4: 475})"
            ]
          },
          "metadata": {},
          "execution_count": 72
        }
      ]
    },
    {
      "cell_type": "markdown",
      "source": [
        "## Creating Model"
      ],
      "metadata": {
        "id": "GsSRSO77rJct"
      }
    },
    {
      "cell_type": "markdown",
      "source": [
        "### Model Skeleton"
      ],
      "metadata": {
        "id": "2qoNziTRrLqt"
      }
    },
    {
      "cell_type": "code",
      "source": [
        "classifier = Sequential()\n",
        "classifier.add(Conv2D(32,(4,4), input_shape=(64,64,3), activation='relu'))\n",
        "classifier.add(MaxPooling2D(pool_size=(2,2)))\n",
        "\n",
        "classifier.add(Conv2D(32,(4,4), activation='relu'))\n",
        "\n",
        "classifier.add(MaxPooling2D(pool_size=(2,2)))\n",
        "\n",
        "classifier.add(Flatten())\n",
        "\n",
        "classifier.add(Dense(units=200, activation='relu'))\n",
        "classifier.add(Dense(units=500, activation='relu'))\n",
        "classifier.add(Dense(units=1000, activation='relu'))\n",
        "classifier.add(Dense(units=5000, activation='relu'))\n",
        "classifier.add(Dense(units=600, activation='relu'))\n",
        "classifier.add(Dense(units=100, activation='relu'))\n",
        "classifier.add(Dense(units=5, activation='softmax'))"
      ],
      "metadata": {
        "id": "Me3Nrx0RpXoy"
      },
      "execution_count": null,
      "outputs": []
    },
    {
      "cell_type": "code",
      "source": [
        "classifier.summary()"
      ],
      "metadata": {
        "colab": {
          "base_uri": "https://localhost:8080/"
        },
        "id": "AtMqykoSpXuL",
        "outputId": "c69bc927-7233-47f0-b9b2-42a2dec1dcc7"
      },
      "execution_count": null,
      "outputs": [
        {
          "output_type": "stream",
          "name": "stdout",
          "text": [
            "Model: \"sequential_2\"\n",
            "_________________________________________________________________\n",
            " Layer (type)                Output Shape              Param #   \n",
            "=================================================================\n",
            " conv2d_4 (Conv2D)           (None, 61, 61, 32)        1568      \n",
            "                                                                 \n",
            " max_pooling2d_4 (MaxPooling  (None, 30, 30, 32)       0         \n",
            " 2D)                                                             \n",
            "                                                                 \n",
            " conv2d_5 (Conv2D)           (None, 27, 27, 32)        16416     \n",
            "                                                                 \n",
            " max_pooling2d_5 (MaxPooling  (None, 13, 13, 32)       0         \n",
            " 2D)                                                             \n",
            "                                                                 \n",
            " flatten_2 (Flatten)         (None, 5408)              0         \n",
            "                                                                 \n",
            " dense_14 (Dense)            (None, 200)               1081800   \n",
            "                                                                 \n",
            " dense_15 (Dense)            (None, 500)               100500    \n",
            "                                                                 \n",
            " dense_16 (Dense)            (None, 1000)              501000    \n",
            "                                                                 \n",
            " dense_17 (Dense)            (None, 5000)              5005000   \n",
            "                                                                 \n",
            " dense_18 (Dense)            (None, 600)               3000600   \n",
            "                                                                 \n",
            " dense_19 (Dense)            (None, 100)               60100     \n",
            "                                                                 \n",
            " dense_20 (Dense)            (None, 5)                 505       \n",
            "                                                                 \n",
            "=================================================================\n",
            "Total params: 9,767,489\n",
            "Trainable params: 9,767,489\n",
            "Non-trainable params: 0\n",
            "_________________________________________________________________\n"
          ]
        }
      ]
    },
    {
      "cell_type": "markdown",
      "source": [
        "### Compining the Model"
      ],
      "metadata": {
        "id": "BJD4EWX8r7DK"
      }
    },
    {
      "cell_type": "code",
      "source": [
        "classifier.compile(optimizer='adam',loss='sparse_categorical_crossentropy', metrics=['accuracy'])"
      ],
      "metadata": {
        "id": "eA-PE9etpXz7"
      },
      "execution_count": null,
      "outputs": []
    },
    {
      "cell_type": "markdown",
      "source": [
        "### Fitting the model"
      ],
      "metadata": {
        "id": "zYAmoXJYsFqC"
      }
    },
    {
      "cell_type": "code",
      "source": [
        "classifier.fit(x_train,\n",
        "               steps_per_epoch=len(x_train),\n",
        "               epochs=100,\n",
        "               validation_data=x_test,\n",
        "               validation_steps=len(x_test))"
      ],
      "metadata": {
        "colab": {
          "base_uri": "https://localhost:8080/"
        },
        "id": "bWr8XN9_pX5U",
        "outputId": "64c735ee-f4e7-4453-da10-52afadf85d12"
      },
      "execution_count": null,
      "outputs": [
        {
          "output_type": "stream",
          "name": "stdout",
          "text": [
            "Epoch 1/100\n",
            "138/138 [==============================] - 160s 1s/step - loss: 0.5955 - accuracy: 0.7912 - val_loss: 0.3793 - val_accuracy: 0.8524\n",
            "Epoch 2/100\n",
            "138/138 [==============================] - 16s 117ms/step - loss: 0.5445 - accuracy: 0.8096 - val_loss: 0.3773 - val_accuracy: 0.8524\n",
            "Epoch 3/100\n",
            "138/138 [==============================] - 17s 121ms/step - loss: 0.4684 - accuracy: 0.8298 - val_loss: 0.3418 - val_accuracy: 0.8629\n",
            "Epoch 4/100\n",
            "138/138 [==============================] - 16s 118ms/step - loss: 0.4132 - accuracy: 0.8492 - val_loss: 0.4124 - val_accuracy: 0.8386\n",
            "Epoch 5/100\n",
            "138/138 [==============================] - 16s 117ms/step - loss: 0.3964 - accuracy: 0.8545 - val_loss: 0.3467 - val_accuracy: 0.8824\n",
            "Epoch 6/100\n",
            "138/138 [==============================] - 16s 118ms/step - loss: 0.4011 - accuracy: 0.8497 - val_loss: 0.3363 - val_accuracy: 0.8702\n",
            "Epoch 7/100\n",
            "138/138 [==============================] - 16s 117ms/step - loss: 0.4787 - accuracy: 0.8269 - val_loss: 0.4037 - val_accuracy: 0.8427\n",
            "Epoch 8/100\n",
            "138/138 [==============================] - 16s 118ms/step - loss: 0.3582 - accuracy: 0.8718 - val_loss: 0.3716 - val_accuracy: 0.8694\n",
            "Epoch 9/100\n",
            "138/138 [==============================] - 16s 118ms/step - loss: 0.3591 - accuracy: 0.8674 - val_loss: 0.3106 - val_accuracy: 0.8856\n",
            "Epoch 10/100\n",
            "138/138 [==============================] - 16s 117ms/step - loss: 0.3423 - accuracy: 0.8771 - val_loss: 0.3518 - val_accuracy: 0.8792\n",
            "Epoch 11/100\n",
            "138/138 [==============================] - 16s 117ms/step - loss: 0.3701 - accuracy: 0.8613 - val_loss: 0.3283 - val_accuracy: 0.8800\n",
            "Epoch 12/100\n",
            "138/138 [==============================] - 16s 118ms/step - loss: 0.3522 - accuracy: 0.8669 - val_loss: 0.3192 - val_accuracy: 0.8840\n",
            "Epoch 13/100\n",
            "138/138 [==============================] - 16s 117ms/step - loss: 0.3361 - accuracy: 0.8788 - val_loss: 0.3353 - val_accuracy: 0.8727\n",
            "Epoch 14/100\n",
            "138/138 [==============================] - 16s 117ms/step - loss: 0.3065 - accuracy: 0.8876 - val_loss: 0.3231 - val_accuracy: 0.8832\n",
            "Epoch 15/100\n",
            "138/138 [==============================] - 16s 118ms/step - loss: 0.3838 - accuracy: 0.8677 - val_loss: 0.3583 - val_accuracy: 0.8727\n",
            "Epoch 16/100\n",
            "138/138 [==============================] - 16s 118ms/step - loss: 0.3125 - accuracy: 0.8813 - val_loss: 0.3124 - val_accuracy: 0.8783\n",
            "Epoch 17/100\n",
            "138/138 [==============================] - 16s 116ms/step - loss: 0.3197 - accuracy: 0.8810 - val_loss: 0.3863 - val_accuracy: 0.8532\n",
            "Epoch 18/100\n",
            "138/138 [==============================] - 16s 117ms/step - loss: 0.3182 - accuracy: 0.8820 - val_loss: 0.2868 - val_accuracy: 0.8938\n",
            "Epoch 19/100\n",
            "138/138 [==============================] - 16s 118ms/step - loss: 0.2894 - accuracy: 0.8912 - val_loss: 0.3043 - val_accuracy: 0.8889\n",
            "Epoch 20/100\n",
            "138/138 [==============================] - 16s 118ms/step - loss: 0.3145 - accuracy: 0.8832 - val_loss: 0.2883 - val_accuracy: 0.9027\n",
            "Epoch 21/100\n",
            "138/138 [==============================] - 16s 117ms/step - loss: 0.2819 - accuracy: 0.8978 - val_loss: 0.3574 - val_accuracy: 0.8710\n",
            "Epoch 22/100\n",
            "138/138 [==============================] - 17s 120ms/step - loss: 0.2587 - accuracy: 0.9034 - val_loss: 0.3647 - val_accuracy: 0.8735\n",
            "Epoch 23/100\n",
            "138/138 [==============================] - 16s 117ms/step - loss: 0.2780 - accuracy: 0.8978 - val_loss: 0.3374 - val_accuracy: 0.8783\n",
            "Epoch 24/100\n",
            "138/138 [==============================] - 16s 117ms/step - loss: 0.2485 - accuracy: 0.9058 - val_loss: 0.2785 - val_accuracy: 0.9011\n",
            "Epoch 25/100\n",
            "138/138 [==============================] - 16s 117ms/step - loss: 0.2376 - accuracy: 0.9075 - val_loss: 0.3279 - val_accuracy: 0.8921\n",
            "Epoch 26/100\n",
            "138/138 [==============================] - 16s 118ms/step - loss: 0.2121 - accuracy: 0.9218 - val_loss: 0.2842 - val_accuracy: 0.9043\n",
            "Epoch 27/100\n",
            "138/138 [==============================] - 16s 117ms/step - loss: 0.2699 - accuracy: 0.9026 - val_loss: 0.2941 - val_accuracy: 0.9027\n",
            "Epoch 28/100\n",
            "138/138 [==============================] - 16s 117ms/step - loss: 0.2199 - accuracy: 0.9177 - val_loss: 0.2791 - val_accuracy: 0.9027\n",
            "Epoch 29/100\n",
            "138/138 [==============================] - 19s 135ms/step - loss: 0.2154 - accuracy: 0.9201 - val_loss: 0.3210 - val_accuracy: 0.8970\n",
            "Epoch 30/100\n",
            "138/138 [==============================] - 16s 117ms/step - loss: 0.2040 - accuracy: 0.9264 - val_loss: 0.3232 - val_accuracy: 0.8962\n",
            "Epoch 31/100\n",
            "138/138 [==============================] - 16s 118ms/step - loss: 0.2162 - accuracy: 0.9223 - val_loss: 0.4801 - val_accuracy: 0.8435\n",
            "Epoch 32/100\n",
            "138/138 [==============================] - 16s 116ms/step - loss: 0.2673 - accuracy: 0.9007 - val_loss: 0.2850 - val_accuracy: 0.8994\n",
            "Epoch 33/100\n",
            "138/138 [==============================] - 16s 117ms/step - loss: 0.2203 - accuracy: 0.9174 - val_loss: 0.3473 - val_accuracy: 0.9027\n",
            "Epoch 34/100\n",
            "138/138 [==============================] - 16s 117ms/step - loss: 0.1857 - accuracy: 0.9378 - val_loss: 0.3483 - val_accuracy: 0.9027\n",
            "Epoch 35/100\n",
            "138/138 [==============================] - 16s 118ms/step - loss: 0.1859 - accuracy: 0.9342 - val_loss: 0.2939 - val_accuracy: 0.9140\n",
            "Epoch 36/100\n",
            "138/138 [==============================] - 16s 117ms/step - loss: 0.2002 - accuracy: 0.9271 - val_loss: 0.3095 - val_accuracy: 0.8962\n",
            "Epoch 37/100\n",
            "138/138 [==============================] - 16s 117ms/step - loss: 0.1714 - accuracy: 0.9369 - val_loss: 0.3864 - val_accuracy: 0.9075\n",
            "Epoch 38/100\n",
            "138/138 [==============================] - 16s 118ms/step - loss: 0.1905 - accuracy: 0.9318 - val_loss: 0.3165 - val_accuracy: 0.9132\n",
            "Epoch 39/100\n",
            "138/138 [==============================] - 17s 122ms/step - loss: 0.1494 - accuracy: 0.9458 - val_loss: 0.3100 - val_accuracy: 0.9035\n",
            "Epoch 40/100\n",
            "138/138 [==============================] - 16s 120ms/step - loss: 0.1874 - accuracy: 0.9303 - val_loss: 0.2930 - val_accuracy: 0.9108\n",
            "Epoch 41/100\n",
            "138/138 [==============================] - 17s 122ms/step - loss: 0.2977 - accuracy: 0.9065 - val_loss: 0.8963 - val_accuracy: 0.8102\n",
            "Epoch 42/100\n",
            "138/138 [==============================] - 16s 119ms/step - loss: 0.2298 - accuracy: 0.9194 - val_loss: 0.3323 - val_accuracy: 0.9140\n",
            "Epoch 43/100\n",
            "138/138 [==============================] - 16s 117ms/step - loss: 0.1658 - accuracy: 0.9417 - val_loss: 0.2817 - val_accuracy: 0.9140\n",
            "Epoch 44/100\n",
            "138/138 [==============================] - 16s 118ms/step - loss: 0.1636 - accuracy: 0.9427 - val_loss: 0.2969 - val_accuracy: 0.9092\n",
            "Epoch 45/100\n",
            "138/138 [==============================] - 16s 119ms/step - loss: 0.1765 - accuracy: 0.9327 - val_loss: 0.3463 - val_accuracy: 0.9059\n",
            "Epoch 46/100\n",
            "138/138 [==============================] - 16s 118ms/step - loss: 0.1654 - accuracy: 0.9410 - val_loss: 0.3872 - val_accuracy: 0.8954\n",
            "Epoch 47/100\n",
            "138/138 [==============================] - 16s 117ms/step - loss: 0.1391 - accuracy: 0.9509 - val_loss: 0.2874 - val_accuracy: 0.9213\n",
            "Epoch 48/100\n",
            "138/138 [==============================] - 16s 118ms/step - loss: 0.1274 - accuracy: 0.9534 - val_loss: 0.2899 - val_accuracy: 0.9246\n",
            "Epoch 49/100\n",
            "138/138 [==============================] - 16s 118ms/step - loss: 0.1309 - accuracy: 0.9519 - val_loss: 0.3183 - val_accuracy: 0.9148\n",
            "Epoch 50/100\n",
            "138/138 [==============================] - 16s 119ms/step - loss: 0.1134 - accuracy: 0.9560 - val_loss: 0.3494 - val_accuracy: 0.9197\n",
            "Epoch 51/100\n",
            "138/138 [==============================] - 16s 118ms/step - loss: 0.1150 - accuracy: 0.9565 - val_loss: 0.3616 - val_accuracy: 0.9116\n",
            "Epoch 52/100\n",
            "138/138 [==============================] - 16s 118ms/step - loss: 0.1871 - accuracy: 0.9364 - val_loss: 0.2542 - val_accuracy: 0.9221\n",
            "Epoch 53/100\n",
            "138/138 [==============================] - 16s 118ms/step - loss: 0.1283 - accuracy: 0.9560 - val_loss: 0.3247 - val_accuracy: 0.9230\n",
            "Epoch 54/100\n",
            "138/138 [==============================] - 16s 118ms/step - loss: 0.1254 - accuracy: 0.9529 - val_loss: 0.2800 - val_accuracy: 0.9246\n",
            "Epoch 55/100\n",
            "138/138 [==============================] - 16s 119ms/step - loss: 0.1167 - accuracy: 0.9585 - val_loss: 0.3877 - val_accuracy: 0.9132\n",
            "Epoch 56/100\n",
            "138/138 [==============================] - 16s 118ms/step - loss: 0.1212 - accuracy: 0.9587 - val_loss: 0.4670 - val_accuracy: 0.9148\n",
            "Epoch 57/100\n",
            "138/138 [==============================] - 16s 118ms/step - loss: 0.1121 - accuracy: 0.9621 - val_loss: 0.3270 - val_accuracy: 0.9230\n",
            "Epoch 58/100\n",
            "138/138 [==============================] - 16s 117ms/step - loss: 0.1539 - accuracy: 0.9509 - val_loss: 0.3536 - val_accuracy: 0.8792\n",
            "Epoch 59/100\n",
            "138/138 [==============================] - 17s 122ms/step - loss: 0.1712 - accuracy: 0.9417 - val_loss: 0.2746 - val_accuracy: 0.9254\n",
            "Epoch 60/100\n",
            "138/138 [==============================] - 17s 121ms/step - loss: 0.0959 - accuracy: 0.9682 - val_loss: 0.3712 - val_accuracy: 0.9230\n",
            "Epoch 61/100\n",
            "138/138 [==============================] - 16s 118ms/step - loss: 0.1558 - accuracy: 0.9505 - val_loss: 0.3745 - val_accuracy: 0.9230\n",
            "Epoch 62/100\n",
            "138/138 [==============================] - 16s 118ms/step - loss: 0.0951 - accuracy: 0.9628 - val_loss: 0.3270 - val_accuracy: 0.9238\n",
            "Epoch 63/100\n",
            "138/138 [==============================] - 16s 118ms/step - loss: 0.1077 - accuracy: 0.9684 - val_loss: 0.3091 - val_accuracy: 0.9181\n",
            "Epoch 64/100\n",
            "138/138 [==============================] - 16s 118ms/step - loss: 0.0998 - accuracy: 0.9665 - val_loss: 0.3459 - val_accuracy: 0.9270\n",
            "Epoch 65/100\n",
            "138/138 [==============================] - 16s 118ms/step - loss: 0.1681 - accuracy: 0.9463 - val_loss: 0.3762 - val_accuracy: 0.9181\n",
            "Epoch 66/100\n",
            "138/138 [==============================] - 16s 119ms/step - loss: 0.0975 - accuracy: 0.9677 - val_loss: 0.3067 - val_accuracy: 0.9230\n",
            "Epoch 67/100\n",
            "138/138 [==============================] - 16s 118ms/step - loss: 0.1149 - accuracy: 0.9614 - val_loss: 0.5326 - val_accuracy: 0.8889\n",
            "Epoch 68/100\n",
            "138/138 [==============================] - 16s 119ms/step - loss: 0.1156 - accuracy: 0.9594 - val_loss: 0.3762 - val_accuracy: 0.9327\n",
            "Epoch 69/100\n",
            "138/138 [==============================] - 16s 118ms/step - loss: 0.1095 - accuracy: 0.9636 - val_loss: 0.3550 - val_accuracy: 0.9165\n",
            "Epoch 70/100\n",
            "138/138 [==============================] - 16s 119ms/step - loss: 0.0813 - accuracy: 0.9718 - val_loss: 0.4396 - val_accuracy: 0.9148\n",
            "Epoch 71/100\n",
            "138/138 [==============================] - 16s 118ms/step - loss: 0.0792 - accuracy: 0.9716 - val_loss: 0.3610 - val_accuracy: 0.9303\n",
            "Epoch 72/100\n",
            "138/138 [==============================] - 16s 118ms/step - loss: 0.0650 - accuracy: 0.9767 - val_loss: 0.3917 - val_accuracy: 0.9254\n",
            "Epoch 73/100\n",
            "138/138 [==============================] - 16s 118ms/step - loss: 0.0788 - accuracy: 0.9747 - val_loss: 0.3699 - val_accuracy: 0.9286\n",
            "Epoch 74/100\n",
            "138/138 [==============================] - 16s 118ms/step - loss: 0.0728 - accuracy: 0.9709 - val_loss: 0.3495 - val_accuracy: 0.9230\n",
            "Epoch 75/100\n",
            "138/138 [==============================] - 16s 118ms/step - loss: 0.0932 - accuracy: 0.9696 - val_loss: 0.5057 - val_accuracy: 0.8873\n",
            "Epoch 76/100\n",
            "138/138 [==============================] - 16s 117ms/step - loss: 0.0771 - accuracy: 0.9726 - val_loss: 0.3886 - val_accuracy: 0.9335\n",
            "Epoch 77/100\n",
            "138/138 [==============================] - 16s 118ms/step - loss: 0.1807 - accuracy: 0.9441 - val_loss: 0.5048 - val_accuracy: 0.8719\n",
            "Epoch 78/100\n",
            "138/138 [==============================] - 17s 120ms/step - loss: 0.1383 - accuracy: 0.9556 - val_loss: 0.3471 - val_accuracy: 0.9173\n",
            "Epoch 79/100\n",
            "138/138 [==============================] - 17s 120ms/step - loss: 0.1087 - accuracy: 0.9670 - val_loss: 0.3812 - val_accuracy: 0.9140\n",
            "Epoch 80/100\n",
            "138/138 [==============================] - 16s 118ms/step - loss: 0.0723 - accuracy: 0.9747 - val_loss: 0.3928 - val_accuracy: 0.9189\n",
            "Epoch 81/100\n",
            "138/138 [==============================] - 16s 119ms/step - loss: 0.0639 - accuracy: 0.9762 - val_loss: 0.4194 - val_accuracy: 0.9246\n",
            "Epoch 82/100\n",
            "138/138 [==============================] - 16s 118ms/step - loss: 0.0593 - accuracy: 0.9796 - val_loss: 0.4338 - val_accuracy: 0.9286\n",
            "Epoch 83/100\n",
            "138/138 [==============================] - 16s 118ms/step - loss: 0.0756 - accuracy: 0.9730 - val_loss: 0.4388 - val_accuracy: 0.9286\n",
            "Epoch 84/100\n",
            "138/138 [==============================] - 16s 118ms/step - loss: 0.1057 - accuracy: 0.9684 - val_loss: 0.3363 - val_accuracy: 0.9067\n",
            "Epoch 85/100\n",
            "138/138 [==============================] - 16s 118ms/step - loss: 0.0664 - accuracy: 0.9762 - val_loss: 0.3677 - val_accuracy: 0.9343\n",
            "Epoch 86/100\n",
            "138/138 [==============================] - 16s 117ms/step - loss: 0.0744 - accuracy: 0.9743 - val_loss: 0.3885 - val_accuracy: 0.9327\n",
            "Epoch 87/100\n",
            "138/138 [==============================] - 16s 117ms/step - loss: 0.0619 - accuracy: 0.9803 - val_loss: 0.4549 - val_accuracy: 0.9303\n",
            "Epoch 88/100\n",
            "138/138 [==============================] - 16s 118ms/step - loss: 0.0739 - accuracy: 0.9757 - val_loss: 0.2993 - val_accuracy: 0.9286\n",
            "Epoch 89/100\n",
            "138/138 [==============================] - 16s 119ms/step - loss: 0.0685 - accuracy: 0.9798 - val_loss: 0.5303 - val_accuracy: 0.8921\n",
            "Epoch 90/100\n",
            "138/138 [==============================] - 16s 118ms/step - loss: 0.0855 - accuracy: 0.9733 - val_loss: 0.3627 - val_accuracy: 0.9319\n",
            "Epoch 91/100\n",
            "138/138 [==============================] - 16s 119ms/step - loss: 0.0579 - accuracy: 0.9818 - val_loss: 0.4837 - val_accuracy: 0.8994\n",
            "Epoch 92/100\n",
            "138/138 [==============================] - 17s 120ms/step - loss: 0.1433 - accuracy: 0.9592 - val_loss: 0.3868 - val_accuracy: 0.9254\n",
            "Epoch 93/100\n",
            "138/138 [==============================] - 16s 119ms/step - loss: 0.0898 - accuracy: 0.9689 - val_loss: 0.5588 - val_accuracy: 0.9205\n",
            "Epoch 94/100\n",
            "138/138 [==============================] - 16s 118ms/step - loss: 0.0781 - accuracy: 0.9772 - val_loss: 0.3574 - val_accuracy: 0.9254\n",
            "Epoch 95/100\n",
            "138/138 [==============================] - 16s 119ms/step - loss: 0.0499 - accuracy: 0.9842 - val_loss: 0.4568 - val_accuracy: 0.9205\n",
            "Epoch 96/100\n",
            "138/138 [==============================] - 16s 118ms/step - loss: 0.0678 - accuracy: 0.9796 - val_loss: 0.3870 - val_accuracy: 0.9278\n",
            "Epoch 97/100\n",
            "138/138 [==============================] - 17s 120ms/step - loss: 0.0638 - accuracy: 0.9818 - val_loss: 0.3156 - val_accuracy: 0.9270\n",
            "Epoch 98/100\n",
            "138/138 [==============================] - 16s 119ms/step - loss: 0.0475 - accuracy: 0.9854 - val_loss: 0.4149 - val_accuracy: 0.9278\n",
            "Epoch 99/100\n",
            "138/138 [==============================] - 16s 118ms/step - loss: 0.0431 - accuracy: 0.9852 - val_loss: 0.3842 - val_accuracy: 0.9221\n",
            "Epoch 100/100\n",
            "138/138 [==============================] - 16s 118ms/step - loss: 0.0566 - accuracy: 0.9818 - val_loss: 0.4653 - val_accuracy: 0.9238\n"
          ]
        },
        {
          "output_type": "execute_result",
          "data": {
            "text/plain": [
              "<keras.callbacks.History at 0x7f7e6c7ad1d0>"
            ]
          },
          "metadata": {},
          "execution_count": 78
        }
      ]
    },
    {
      "cell_type": "code",
      "source": [
        "classifier.save('nutrition.h5')"
      ],
      "metadata": {
        "id": "5G1knFaMpX-p"
      },
      "execution_count": null,
      "outputs": []
    },
    {
      "cell_type": "markdown",
      "source": [
        "## Predicting Results"
      ],
      "metadata": {
        "id": "FwaT56-jtOTb"
      }
    },
    {
      "cell_type": "code",
      "source": [
        "from tensorflow.keras.models import load_model\n",
        "from tensorflow.keras.preprocessing import image\n",
        "import numpy as np"
      ],
      "metadata": {
        "id": "0150YlvbpYDa"
      },
      "execution_count": null,
      "outputs": []
    },
    {
      "cell_type": "code",
      "source": [
        "img = image.load_img('/content/drive/MyDrive/Colab Notebooks/ibm/nutra/dataset/ibm/TRAIN_SET/APPLES/n07740461_10336.jpg', target_size=(64,64))\n",
        "img"
      ],
      "metadata": {
        "colab": {
          "base_uri": "https://localhost:8080/",
          "height": 81
        },
        "id": "7bLsQARPpYIE",
        "outputId": "b11ca172-9f8a-4c2c-f819-6f0fa449d5b4"
      },
      "execution_count": null,
      "outputs": [
        {
          "output_type": "execute_result",
          "data": {
            "text/plain": [
              "<PIL.Image.Image image mode=RGB size=64x64 at 0x7F7E6C764890>"
            ],
            "image/png": "[encoded data removed]"
          },
          "metadata": {},
          "execution_count": 81
        }
      ]
    },
    {
      "cell_type": "code",
      "source": [
        "x=image.img_to_array(img)\n",
        "x.ndim"
      ],
      "metadata": {
        "colab": {
          "base_uri": "https://localhost:8080/"
        },
        "id": "NO6QA6f_ttaJ",
        "outputId": "d1dcfdd7-f3e2-4145-8c7f-ab735bd9eb9f"
      },
      "execution_count": null,
      "outputs": [
        {
          "output_type": "execute_result",
          "data": {
            "text/plain": [
              "3"
            ]
          },
          "metadata": {},
          "execution_count": 82
        }
      ]
    },
    {
      "cell_type": "code",
      "source": [
        "x=np.expand_dims(x,axis=0)"
      ],
      "metadata": {
        "id": "b8CI-OO29GHC"
      },
      "execution_count": null,
      "outputs": []
    },
    {
      "cell_type": "code",
      "source": [
        "x.ndim"
      ],
      "metadata": {
        "colab": {
          "base_uri": "https://localhost:8080/"
        },
        "id": "5WJw56MU9JrB",
        "outputId": "d6e84add-2fdd-4162-a744-aa03418051f8"
      },
      "execution_count": null,
      "outputs": [
        {
          "output_type": "execute_result",
          "data": {
            "text/plain": [
              "4"
            ]
          },
          "metadata": {},
          "execution_count": 84
        }
      ]
    },
    {
      "cell_type": "code",
      "source": [
        "pred = classifier.predict(x)\n",
        "pred"
      ],
      "metadata": {
        "colab": {
          "base_uri": "https://localhost:8080/"
        },
        "id": "Qm_eXGWU9LAa",
        "outputId": "6d3cc69e-63c0-4279-b14e-ece5b7cdd151"
      },
      "execution_count": null,
      "outputs": [
        {
          "output_type": "stream",
          "name": "stdout",
          "text": [
            "1/1 [==============================] - 0s 94ms/step\n"
          ]
        },
        {
          "output_type": "execute_result",
          "data": {
            "text/plain": [
              "array([[1., 0., 0., 0., 0.]], dtype=float32)"
            ]
          },
          "metadata": {},
          "execution_count": 85
        }
      ]
    },
    {
      "cell_type": "code",
      "source": [
        "labels=['APPLES','BANANA','ORANGE','PINEAPPLE','WATERMELON']\n",
        "labels[np.argmax(pred)]"
      ],
      "metadata": {
        "colab": {
          "base_uri": "https://localhost:8080/",
          "height": 36
        },
        "id": "T3impsRWpYLj",
        "outputId": "2171cf73-ee78-481d-9443-40edfa72200f"
      },
      "execution_count": null,
      "outputs": [
        {
          "output_type": "execute_result",
          "data": {
            "text/plain": [
              "'APPLES'"
            ],
            "application/vnd.google.colaboratory.intrinsic+json": {
              "type": "string"
            }
          },
          "metadata": {},
          "execution_count": 86
        }
      ]
    },
    {
      "cell_type": "code",
      "source": [
        "## Apple path\n",
        "image_path = '/content/drive/MyDrive/Colab Notebooks/ibm/nutra/dataset/ibm/TRAIN_SET/APPLES/n07740461_10336.jpg'\n",
        "\n",
        "## Banana path\n",
        "# image_path = '/content/drive/MyDrive/Colab Notebooks/ibm/nutra/dataset/ibm/TEST_SET/BANANA/2PNGRNZS99N0.jpg'\n",
        "\n",
        "## Orange path\n",
        "# image_path = '/content/drive/MyDrive/Colab Notebooks/ibm/nutra/dataset/ibm/TRAIN_SET/ORANGE/n07749192_10192.jpg'\n",
        "\n",
        "## Pineapple path\n",
        "# image_path = '/content/drive/MyDrive/Colab Notebooks/ibm/nutra/dataset/ibm/TRAIN_SET/PINEAPPLE/327_100.jpg'\n",
        "\n",
        "## Watermelon path\n",
        "# image_path = '/content/drive/MyDrive/Colab Notebooks/ibm/nutra/dataset/ibm/TRAIN_SET/WATERMELON/114_100.jpg'\n",
        "\n",
        "\n",
        "labels=['APPLES','BANANA','ORANGE','PINEAPPLE','WATERMELON']\n",
        "img = image.load_img(image_path, target_size=(64,64))\n",
        "x=image.img_to_array(img)\n",
        "x=np.expand_dims(x,axis=0)\n",
        "pred = classifier.predict(x)\n",
        "print(labels[np.argmax(pred)])\n",
        "img"
      ],
      "metadata": {
        "colab": {
          "base_uri": "https://localhost:8080/",
          "height": 116
        },
        "id": "7bl2TUuOpYQz",
        "outputId": "132408bb-968a-4f0e-bd1c-3b91db2ec852"
      },
      "execution_count": null,
      "outputs": [
        {
          "output_type": "stream",
          "name": "stdout",
          "text": [
            "1/1 [==============================] - 0s 15ms/step\n",
            "APPLES\n"
          ]
        },
        {
          "output_type": "execute_result",
          "data": {
            "text/plain": [
              "<PIL.Image.Image image mode=RGB size=64x64 at 0x7F7E6C638910>"
            ],
            "image/png": "[encoded data removed]"
          },
          "metadata": {},
          "execution_count": 93
        }
      ]
    },
    {
      "cell_type": "code",
      "source": [],
      "metadata": {
        "id": "b172ti7tU9It"
      },
      "execution_count": null,
      "outputs": []
    },
    {
      "cell_type": "code",
      "source": [],
      "metadata": {
        "id": "ZJQxY3zQU9As"
      },
      "execution_count": null,
      "outputs": []
    },
    {
      "cell_type": "code",
      "source": [],
      "metadata": {
        "id": "3UhczrCLU89D"
      },
      "execution_count": null,
      "outputs": []
    }
  ]
}