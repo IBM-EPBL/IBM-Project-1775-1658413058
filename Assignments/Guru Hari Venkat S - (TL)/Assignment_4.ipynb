{
  "nbformat": 4,
  "nbformat_minor": 0,
  "metadata": {
    "colab": {
      "provenance": [],
      "collapsed_sections": []
    },
    "kernelspec": {
      "name": "python3",
      "display_name": "Python 3"
    },
    "language_info": {
      "name": "python"
    }
  },
  "cells": [
    {
      "cell_type": "markdown",
      "source": [
        "![Screenshot from 2022-11-04 13-45-11.png](data:image/png;base64,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)"
      ],
      "metadata": {
        "id": "qoxFmjWms8Wp"
      }
    },
    {
      "cell_type": "markdown",
      "source": [
        "# SMS SPAM Classification"
      ],
      "metadata": {
        "id": "TsnH8UIos35f"
      }
    },
    {
      "cell_type": "markdown",
      "source": [
        "## Import required libraries\n"
      ],
      "metadata": {
        "id": "ivr_hf4wr0T7"
      }
    },
    {
      "cell_type": "code",
      "execution_count": null,
      "metadata": {
        "id": "dBdeTHP6DMse"
      },
      "outputs": [],
      "source": [
        "import pandas as pd\n",
        "import numpy as np\n",
        "import re\n",
        "import collections\n",
        "import contractions\n",
        "import seaborn as sns\n",
        "import matplotlib.pyplot as plt\n",
        "plt.style.use('dark_background')\n",
        "import nltk\n",
        "from nltk.stem import WordNetLemmatizer\n",
        "from nltk.corpus import stopwords\n",
        "import warnings\n",
        "warnings.simplefilter(action='ignore', category=Warning)\n",
        "import keras\n",
        "from keras.layers import Dense, Embedding, LSTM, Dropout\n",
        "from keras.models import Sequential\n",
        "from keras.preprocessing.text import Tokenizer\n",
        "from keras_preprocessing.sequence import pad_sequences"
      ]
    },
    {
      "cell_type": "markdown",
      "source": [
        "## Download the dataset"
      ],
      "metadata": {
        "id": "_DCAKBbzr5yF"
      }
    },
    {
      "cell_type": "code",
      "source": [
        "df = pd.read_csv(\"spam.csv\", encoding='ISO-8859-1')\n",
        "df.shape"
      ],
      "metadata": {
        "colab": {
          "base_uri": "https://localhost:8080/"
        },
        "id": "X6K6VbeEbwDw",
        "outputId": "7a213a85-9de8-4783-bb5c-1797e1271577"
      },
      "execution_count": null,
      "outputs": [
        {
          "output_type": "execute_result",
          "data": {
            "text/plain": [
              "(5572, 5)"
            ]
          },
          "metadata": {},
          "execution_count": 21
        }
      ]
    },
    {
      "cell_type": "markdown",
      "source": [
        "## Read dataset and do pre-processing"
      ],
      "metadata": {
        "id": "NuwJ5VXtsHsM"
      }
    },
    {
      "cell_type": "code",
      "source": [
        "df.head(10)"
      ],
      "metadata": {
        "colab": {
          "base_uri": "https://localhost:8080/",
          "height": 363
        },
        "id": "B25vQOxDdGIY",
        "outputId": "e150ecb9-6bad-477e-83eb-b938578f8110"
      },
      "execution_count": null,
      "outputs": [
        {
          "output_type": "execute_result",
          "data": {
            "text/plain": [
              "     v1  ... Unnamed: 4\n",
              "0   ham  ...        NaN\n",
              "1   ham  ...        NaN\n",
              "2  spam  ...        NaN\n",
              "3   ham  ...        NaN\n",
              "4   ham  ...        NaN\n",
              "5  spam  ...        NaN\n",
              "6   ham  ...        NaN\n",
              "7   ham  ...        NaN\n",
              "8  spam  ...        NaN\n",
              "9  spam  ...        NaN\n",
              "\n",
              "[10 rows x 5 columns]"
            ],
            "text/html": [
              "\n",
              "  <div id=\"df-38ae0916-44ff-4f60-97f9-ee973b5bcd21\">\n",
              "    <div class=\"colab-df-container\">\n",
              "      <div>\n",
              "<style scoped>\n",
              "    .dataframe tbody tr th:only-of-type {\n",
              "        vertical-align: middle;\n",
              "    }\n",
              "\n",
              "    .dataframe tbody tr th {\n",
              "        vertical-align: top;\n",
              "    }\n",
              "\n",
              "    .dataframe thead th {\n",
              "        text-align: right;\n",
              "    }\n",
              "</style>\n",
              "<table border=\"1\" class=\"dataframe\">\n",
              "  <thead>\n",
              "    <tr style=\"text-align: right;\">\n",
              "      <th></th>\n",
              "      <th>v1</th>\n",
              "      <th>v2</th>\n",
              "      <th>Unnamed: 2</th>\n",
              "      <th>Unnamed: 3</th>\n",
              "      <th>Unnamed: 4</th>\n",
              "    </tr>\n",
              "  </thead>\n",
              "  <tbody>\n",
              "    <tr>\n",
              "      <th>0</th>\n",
              "      <td>ham</td>\n",
              "      <td>Go until jurong point, crazy.. Available only ...</td>\n",
              "      <td>NaN</td>\n",
              "      <td>NaN</td>\n",
              "      <td>NaN</td>\n",
              "    </tr>\n",
              "    <tr>\n",
              "      <th>1</th>\n",
              "      <td>ham</td>\n",
              "      <td>Ok lar... Joking wif u oni...</td>\n",
              "      <td>NaN</td>\n",
              "      <td>NaN</td>\n",
              "      <td>NaN</td>\n",
              "    </tr>\n",
              "    <tr>\n",
              "      <th>2</th>\n",
              "      <td>spam</td>\n",
              "      <td>Free entry in 2 a wkly comp to win FA Cup fina...</td>\n",
              "      <td>NaN</td>\n",
              "      <td>NaN</td>\n",
              "      <td>NaN</td>\n",
              "    </tr>\n",
              "    <tr>\n",
              "      <th>3</th>\n",
              "      <td>ham</td>\n",
              "      <td>U dun say so early hor... U c already then say...</td>\n",
              "      <td>NaN</td>\n",
              "      <td>NaN</td>\n",
              "      <td>NaN</td>\n",
              "    </tr>\n",
              "    <tr>\n",
              "      <th>4</th>\n",
              "      <td>ham</td>\n",
              "      <td>Nah I don't think he goes to usf, he lives aro...</td>\n",
              "      <td>NaN</td>\n",
              "      <td>NaN</td>\n",
              "      <td>NaN</td>\n",
              "    </tr>\n",
              "    <tr>\n",
              "      <th>5</th>\n",
              "      <td>spam</td>\n",
              "      <td>FreeMsg Hey there darling it's been 3 week's n...</td>\n",
              "      <td>NaN</td>\n",
              "      <td>NaN</td>\n",
              "      <td>NaN</td>\n",
              "    </tr>\n",
              "    <tr>\n",
              "      <th>6</th>\n",
              "      <td>ham</td>\n",
              "      <td>Even my brother is not like to speak with me. ...</td>\n",
              "      <td>NaN</td>\n",
              "      <td>NaN</td>\n",
              "      <td>NaN</td>\n",
              "    </tr>\n",
              "    <tr>\n",
              "      <th>7</th>\n",
              "      <td>ham</td>\n",
              "      <td>As per your request 'Melle Melle (Oru Minnamin...</td>\n",
              "      <td>NaN</td>\n",
              "      <td>NaN</td>\n",
              "      <td>NaN</td>\n",
              "    </tr>\n",
              "    <tr>\n",
              "      <th>8</th>\n",
              "      <td>spam</td>\n",
              "      <td>WINNER!! As a valued network customer you have...</td>\n",
              "      <td>NaN</td>\n",
              "      <td>NaN</td>\n",
              "      <td>NaN</td>\n",
              "    </tr>\n",
              "    <tr>\n",
              "      <th>9</th>\n",
              "      <td>spam</td>\n",
              "      <td>Had your mobile 11 months or more? U R entitle...</td>\n",
              "      <td>NaN</td>\n",
              "      <td>NaN</td>\n",
              "      <td>NaN</td>\n",
              "    </tr>\n",
              "  </tbody>\n",
              "</table>\n",
              "</div>\n",
              "      <button class=\"colab-df-convert\" onclick=\"convertToInteractive('df-38ae0916-44ff-4f60-97f9-ee973b5bcd21')\"\n",
              "              title=\"Convert this dataframe to an interactive table.\"\n",
              "              style=\"display:none;\">\n",
              "        \n",
              "  <svg xmlns=\"http://www.w3.org/2000/svg\" height=\"24px\"viewBox=\"0 0 24 24\"\n",
              "       width=\"24px\">\n",
              "    <path d=\"M0 0h24v24H0V0z\" fill=\"none\"/>\n",
              "    <path d=\"M18.56 5.44l.94 2.06.94-2.06 2.06-.94-2.06-.94-.94-2.06-.94 2.06-2.06.94zm-11 1L8.5 8.5l.94-2.06 2.06-.94-2.06-.94L8.5 2.5l-.94 2.06-2.06.94zm10 10l.94 2.06.94-2.06 2.06-.94-2.06-.94-.94-2.06-.94 2.06-2.06.94z\"/><path d=\"M17.41 7.96l-1.37-1.37c-.4-.4-.92-.59-1.43-.59-.52 0-1.04.2-1.43.59L10.3 9.45l-7.72 7.72c-.78.78-.78 2.05 0 2.83L4 21.41c.39.39.9.59 1.41.59.51 0 1.02-.2 1.41-.59l7.78-7.78 2.81-2.81c.8-.78.8-2.07 0-2.86zM5.41 20L4 18.59l7.72-7.72 1.47 1.35L5.41 20z\"/>\n",
              "  </svg>\n",
              "      </button>\n",
              "      \n",
              "  <style>\n",
              "    .colab-df-container {\n",
              "      display:flex;\n",
              "      flex-wrap:wrap;\n",
              "      gap: 12px;\n",
              "    }\n",
              "\n",
              "    .colab-df-convert {\n",
              "      background-color: #E8F0FE;\n",
              "      border: none;\n",
              "      border-radius: 50%;\n",
              "      cursor: pointer;\n",
              "      display: none;\n",
              "      fill: #1967D2;\n",
              "      height: 32px;\n",
              "      padding: 0 0 0 0;\n",
              "      width: 32px;\n",
              "    }\n",
              "\n",
              "    .colab-df-convert:hover {\n",
              "      background-color: #E2EBFA;\n",
              "      box-shadow: 0px 1px 2px rgba(60, 64, 67, 0.3), 0px 1px 3px 1px rgba(60, 64, 67, 0.15);\n",
              "      fill: #174EA6;\n",
              "    }\n",
              "\n",
              "    [theme=dark] .colab-df-convert {\n",
              "      background-color: #3B4455;\n",
              "      fill: #D2E3FC;\n",
              "    }\n",
              "\n",
              "    [theme=dark] .colab-df-convert:hover {\n",
              "      background-color: #434B5C;\n",
              "      box-shadow: 0px 1px 3px 1px rgba(0, 0, 0, 0.15);\n",
              "      filter: drop-shadow(0px 1px 2px rgba(0, 0, 0, 0.3));\n",
              "      fill: #FFFFFF;\n",
              "    }\n",
              "  </style>\n",
              "\n",
              "      <script>\n",
              "        const buttonEl =\n",
              "          document.querySelector('#df-38ae0916-44ff-4f60-97f9-ee973b5bcd21 button.colab-df-convert');\n",
              "        buttonEl.style.display =\n",
              "          google.colab.kernel.accessAllowed ? 'block' : 'none';\n",
              "\n",
              "        async function convertToInteractive(key) {\n",
              "          const element = document.querySelector('#df-38ae0916-44ff-4f60-97f9-ee973b5bcd21');\n",
              "          const dataTable =\n",
              "            await google.colab.kernel.invokeFunction('convertToInteractive',\n",
              "                                                     [key], {});\n",
              "          if (!dataTable) return;\n",
              "\n",
              "          const docLinkHtml = 'Like what you see? Visit the ' +\n",
              "            '<a target=\"_blank\" href=https://colab.research.google.com/notebooks/data_table.ipynb>data table notebook</a>'\n",
              "            + ' to learn more about interactive tables.';\n",
              "          element.innerHTML = '';\n",
              "          dataTable['output_type'] = 'display_data';\n",
              "          await google.colab.output.renderOutput(dataTable, element);\n",
              "          const docLink = document.createElement('div');\n",
              "          docLink.innerHTML = docLinkHtml;\n",
              "          element.appendChild(docLink);\n",
              "        }\n",
              "      </script>\n",
              "    </div>\n",
              "  </div>\n",
              "  "
            ]
          },
          "metadata": {},
          "execution_count": 13
        }
      ]
    },
    {
      "cell_type": "code",
      "source": [
        "df.info()"
      ],
      "metadata": {
        "colab": {
          "base_uri": "https://localhost:8080/"
        },
        "id": "EFVukQgbdMWb",
        "outputId": "e1857e5e-4df1-4244-87fd-40edcec26ca9"
      },
      "execution_count": null,
      "outputs": [
        {
          "output_type": "stream",
          "name": "stdout",
          "text": [
            "<class 'pandas.core.frame.DataFrame'>\n",
            "RangeIndex: 5572 entries, 0 to 5571\n",
            "Data columns (total 5 columns):\n",
            " #   Column      Non-Null Count  Dtype \n",
            "---  ------      --------------  ----- \n",
            " 0   v1          5572 non-null   object\n",
            " 1   v2          5572 non-null   object\n",
            " 2   Unnamed: 2  50 non-null     object\n",
            " 3   Unnamed: 3  12 non-null     object\n",
            " 4   Unnamed: 4  6 non-null      object\n",
            "dtypes: object(5)\n",
            "memory usage: 217.8+ KB\n"
          ]
        }
      ]
    },
    {
      "cell_type": "code",
      "source": [
        "df.isnull().any()"
      ],
      "metadata": {
        "colab": {
          "base_uri": "https://localhost:8080/"
        },
        "id": "04uCJXandoVF",
        "outputId": "f9df32be-7204-431b-d0be-096ae05336fe"
      },
      "execution_count": null,
      "outputs": [
        {
          "output_type": "execute_result",
          "data": {
            "text/plain": [
              "v1            False\n",
              "v2            False\n",
              "Unnamed: 2     True\n",
              "Unnamed: 3     True\n",
              "Unnamed: 4     True\n",
              "dtype: bool"
            ]
          },
          "metadata": {},
          "execution_count": 17
        }
      ]
    },
    {
      "cell_type": "code",
      "source": [
        "df.isnull().sum()"
      ],
      "metadata": {
        "colab": {
          "base_uri": "https://localhost:8080/"
        },
        "id": "4E1xkgVyeF8R",
        "outputId": "428fe405-0b6a-4034-b0fb-968c8bc15531"
      },
      "execution_count": null,
      "outputs": [
        {
          "output_type": "execute_result",
          "data": {
            "text/plain": [
              "v1               0\n",
              "v2               0\n",
              "Unnamed: 2    5522\n",
              "Unnamed: 3    5560\n",
              "Unnamed: 4    5566\n",
              "dtype: int64"
            ]
          },
          "metadata": {},
          "execution_count": 18
        }
      ]
    },
    {
      "cell_type": "code",
      "source": [
        "df.drop([\"Unnamed: 2\", \"Unnamed: 3\", \"Unnamed: 4\"], axis=1, inplace=True)\n",
        "df.columns = [\"Spam/Ham\",\"Message\"]"
      ],
      "metadata": {
        "id": "yZPQN1u6eMdb"
      },
      "execution_count": null,
      "outputs": []
    },
    {
      "cell_type": "code",
      "source": [
        "df.head()"
      ],
      "metadata": {
        "colab": {
          "base_uri": "https://localhost:8080/",
          "height": 206
        },
        "id": "si-Ez2w3eQni",
        "outputId": "2984b88e-d63a-4a24-c16e-226e626c25e5"
      },
      "execution_count": null,
      "outputs": [
        {
          "output_type": "execute_result",
          "data": {
            "text/plain": [
              "  Spam/Ham                                            Message\n",
              "0      ham  Go until jurong point, crazy.. Available only ...\n",
              "1      ham                      Ok lar... Joking wif u oni...\n",
              "2     spam  Free entry in 2 a wkly comp to win FA Cup fina...\n",
              "3      ham  U dun say so early hor... U c already then say...\n",
              "4      ham  Nah I don't think he goes to usf, he lives aro..."
            ],
            "text/html": [
              "\n",
              "  <div id=\"df-07bffa73-f19b-4cbe-a252-9a34718771ba\">\n",
              "    <div class=\"colab-df-container\">\n",
              "      <div>\n",
              "<style scoped>\n",
              "    .dataframe tbody tr th:only-of-type {\n",
              "        vertical-align: middle;\n",
              "    }\n",
              "\n",
              "    .dataframe tbody tr th {\n",
              "        vertical-align: top;\n",
              "    }\n",
              "\n",
              "    .dataframe thead th {\n",
              "        text-align: right;\n",
              "    }\n",
              "</style>\n",
              "<table border=\"1\" class=\"dataframe\">\n",
              "  <thead>\n",
              "    <tr style=\"text-align: right;\">\n",
              "      <th></th>\n",
              "      <th>Spam/Ham</th>\n",
              "      <th>Message</th>\n",
              "    </tr>\n",
              "  </thead>\n",
              "  <tbody>\n",
              "    <tr>\n",
              "      <th>0</th>\n",
              "      <td>ham</td>\n",
              "      <td>Go until jurong point, crazy.. Available only ...</td>\n",
              "    </tr>\n",
              "    <tr>\n",
              "      <th>1</th>\n",
              "      <td>ham</td>\n",
              "      <td>Ok lar... Joking wif u oni...</td>\n",
              "    </tr>\n",
              "    <tr>\n",
              "      <th>2</th>\n",
              "      <td>spam</td>\n",
              "      <td>Free entry in 2 a wkly comp to win FA Cup fina...</td>\n",
              "    </tr>\n",
              "    <tr>\n",
              "      <th>3</th>\n",
              "      <td>ham</td>\n",
              "      <td>U dun say so early hor... U c already then say...</td>\n",
              "    </tr>\n",
              "    <tr>\n",
              "      <th>4</th>\n",
              "      <td>ham</td>\n",
              "      <td>Nah I don't think he goes to usf, he lives aro...</td>\n",
              "    </tr>\n",
              "  </tbody>\n",
              "</table>\n",
              "</div>\n",
              "      <button class=\"colab-df-convert\" onclick=\"convertToInteractive('df-07bffa73-f19b-4cbe-a252-9a34718771ba')\"\n",
              "              title=\"Convert this dataframe to an interactive table.\"\n",
              "              style=\"display:none;\">\n",
              "        \n",
              "  <svg xmlns=\"http://www.w3.org/2000/svg\" height=\"24px\"viewBox=\"0 0 24 24\"\n",
              "       width=\"24px\">\n",
              "    <path d=\"M0 0h24v24H0V0z\" fill=\"none\"/>\n",
              "    <path d=\"M18.56 5.44l.94 2.06.94-2.06 2.06-.94-2.06-.94-.94-2.06-.94 2.06-2.06.94zm-11 1L8.5 8.5l.94-2.06 2.06-.94-2.06-.94L8.5 2.5l-.94 2.06-2.06.94zm10 10l.94 2.06.94-2.06 2.06-.94-2.06-.94-.94-2.06-.94 2.06-2.06.94z\"/><path d=\"M17.41 7.96l-1.37-1.37c-.4-.4-.92-.59-1.43-.59-.52 0-1.04.2-1.43.59L10.3 9.45l-7.72 7.72c-.78.78-.78 2.05 0 2.83L4 21.41c.39.39.9.59 1.41.59.51 0 1.02-.2 1.41-.59l7.78-7.78 2.81-2.81c.8-.78.8-2.07 0-2.86zM5.41 20L4 18.59l7.72-7.72 1.47 1.35L5.41 20z\"/>\n",
              "  </svg>\n",
              "      </button>\n",
              "      \n",
              "  <style>\n",
              "    .colab-df-container {\n",
              "      display:flex;\n",
              "      flex-wrap:wrap;\n",
              "      gap: 12px;\n",
              "    }\n",
              "\n",
              "    .colab-df-convert {\n",
              "      background-color: #E8F0FE;\n",
              "      border: none;\n",
              "      border-radius: 50%;\n",
              "      cursor: pointer;\n",
              "      display: none;\n",
              "      fill: #1967D2;\n",
              "      height: 32px;\n",
              "      padding: 0 0 0 0;\n",
              "      width: 32px;\n",
              "    }\n",
              "\n",
              "    .colab-df-convert:hover {\n",
              "      background-color: #E2EBFA;\n",
              "      box-shadow: 0px 1px 2px rgba(60, 64, 67, 0.3), 0px 1px 3px 1px rgba(60, 64, 67, 0.15);\n",
              "      fill: #174EA6;\n",
              "    }\n",
              "\n",
              "    [theme=dark] .colab-df-convert {\n",
              "      background-color: #3B4455;\n",
              "      fill: #D2E3FC;\n",
              "    }\n",
              "\n",
              "    [theme=dark] .colab-df-convert:hover {\n",
              "      background-color: #434B5C;\n",
              "      box-shadow: 0px 1px 3px 1px rgba(0, 0, 0, 0.15);\n",
              "      filter: drop-shadow(0px 1px 2px rgba(0, 0, 0, 0.3));\n",
              "      fill: #FFFFFF;\n",
              "    }\n",
              "  </style>\n",
              "\n",
              "      <script>\n",
              "        const buttonEl =\n",
              "          document.querySelector('#df-07bffa73-f19b-4cbe-a252-9a34718771ba button.colab-df-convert');\n",
              "        buttonEl.style.display =\n",
              "          google.colab.kernel.accessAllowed ? 'block' : 'none';\n",
              "\n",
              "        async function convertToInteractive(key) {\n",
              "          const element = document.querySelector('#df-07bffa73-f19b-4cbe-a252-9a34718771ba');\n",
              "          const dataTable =\n",
              "            await google.colab.kernel.invokeFunction('convertToInteractive',\n",
              "                                                     [key], {});\n",
              "          if (!dataTable) return;\n",
              "\n",
              "          const docLinkHtml = 'Like what you see? Visit the ' +\n",
              "            '<a target=\"_blank\" href=https://colab.research.google.com/notebooks/data_table.ipynb>data table notebook</a>'\n",
              "            + ' to learn more about interactive tables.';\n",
              "          element.innerHTML = '';\n",
              "          dataTable['output_type'] = 'display_data';\n",
              "          await google.colab.output.renderOutput(dataTable, element);\n",
              "          const docLink = document.createElement('div');\n",
              "          docLink.innerHTML = docLinkHtml;\n",
              "          element.appendChild(docLink);\n",
              "        }\n",
              "      </script>\n",
              "    </div>\n",
              "  </div>\n",
              "  "
            ]
          },
          "metadata": {},
          "execution_count": 23
        }
      ]
    },
    {
      "cell_type": "code",
      "source": [
        "sns.countplot(df[\"Spam/Ham\"])"
      ],
      "metadata": {
        "colab": {
          "base_uri": "https://localhost:8080/",
          "height": 297
        },
        "id": "03YyTyIJelhx",
        "outputId": "1bc192a3-49cd-4747-ac8e-d81f7b31cd94"
      },
      "execution_count": null,
      "outputs": [
        {
          "output_type": "execute_result",
          "data": {
            "text/plain": [
              "<matplotlib.axes._subplots.AxesSubplot at 0x7f4de8b9e610>"
            ]
          },
          "metadata": {},
          "execution_count": 24
        },
        {
          "output_type": "display_data",
          "data": {
            "text/plain": [
              "<Figure size 432x288 with 1 Axes>"
            ],
            "image/png": "[encoded data removed]"
          },
          "metadata": {}
        }
      ]
    },
    {
      "cell_type": "code",
      "source": [
        "def preprocessing(data):\n",
        "      sms = contractions.fix(data)\n",
        "      sms = sms.lower()\n",
        "      sms = re.sub(r'https?://S+|www.S+', \"\", sms).strip()\n",
        "      sms = re.sub(\"[^a-z ]\", \"\", sms)\n",
        "      return sms\n",
        "X = df[\"Message\"].apply(preprocessing)"
      ],
      "metadata": {
        "id": "xPVhKhUlfprB"
      },
      "execution_count": null,
      "outputs": []
    },
    {
      "cell_type": "code",
      "source": [
        "from sklearn.preprocessing import LabelEncoder\n",
        "lb_enc = LabelEncoder()\n",
        "y = lb_enc.fit_transform(df[\"Spam/Ham\"])"
      ],
      "metadata": {
        "id": "g8zejRHdi_Ox"
      },
      "execution_count": null,
      "outputs": []
    },
    {
      "cell_type": "code",
      "source": [
        "tokenizer = Tokenizer()\n",
        "tokenizer.fit_on_texts(X)\n",
        "text_to_sequence = tokenizer.texts_to_sequences(X)"
      ],
      "metadata": {
        "id": "8CZpRfeEjG8M"
      },
      "execution_count": null,
      "outputs": []
    },
    {
      "cell_type": "code",
      "source": [
        "max_length_sequence = max([len(i) for i in text_to_sequence])\n",
        "padded_sms_sequence = pad_sequences(text_to_sequence, maxlen=max_length_sequence, \n",
        "                                    padding = \"pre\") \n",
        "padded_sms_sequence"
      ],
      "metadata": {
        "colab": {
          "base_uri": "https://localhost:8080/"
        },
        "id": "HGKWBtGzjasC",
        "outputId": "0db32e81-84d2-4a61-8cfa-b38a212cfffd"
      },
      "execution_count": null,
      "outputs": [
        {
          "output_type": "execute_result",
          "data": {
            "text/plain": [
              "array([[   0,    0,    0, ...,   50, 3915,  134],\n",
              "       [   0,    0,    0, ...,  419,    1, 1715],\n",
              "       [   0,    0,    0, ..., 2653,  348, 2654],\n",
              "       ...,\n",
              "       [   0,    0,    0, ..., 8472,  222, 8473],\n",
              "       [   0,    0,    0, ...,  144,   17,   45],\n",
              "       [   0,    0,    0, ...,    3,   61,  233]], dtype=int32)"
            ]
          },
          "metadata": {},
          "execution_count": 40
        }
      ]
    },
    {
      "cell_type": "markdown",
      "source": [
        "## Create Model"
      ],
      "metadata": {
        "id": "FOsaH2kPsS0X"
      }
    },
    {
      "cell_type": "markdown",
      "source": [
        "### Add Layers (LSTM, Dense-(Hidden Layers), Output)"
      ],
      "metadata": {
        "id": "SoGhR6Foscqy"
      }
    },
    {
      "cell_type": "code",
      "source": [
        "TOT_SIZE = len(tokenizer.word_index)+1\n",
        "def create_model():\n",
        "      lstm_model = Sequential()\n",
        "      lstm_model.add(Embedding(TOT_SIZE, 32, input_length=max_length_sequence))\n",
        "      lstm_model.add(LSTM(100))\n",
        "      lstm_model.add(Dropout(0.4))\n",
        "      lstm_model.add(Dense(20, activation=\"relu\"))\n",
        "      lstm_model.add(Dropout(0.3))\n",
        "      lstm_model.add(Dense(1, activation = \"sigmoid\"))\n",
        "      return lstm_model\n",
        "lstm_model = create_model()"
      ],
      "metadata": {
        "id": "OyKo_yEfjhZw"
      },
      "execution_count": null,
      "outputs": []
    },
    {
      "cell_type": "markdown",
      "source": [
        "## Compile the Model"
      ],
      "metadata": {
        "id": "MAV4aU97snE8"
      }
    },
    {
      "cell_type": "code",
      "source": [
        "lstm_model.compile(loss = \"binary_crossentropy\", optimizer = \"adam\", metrics = [\"accuracy\"])"
      ],
      "metadata": {
        "id": "omOmVYMrsi6Q"
      },
      "execution_count": null,
      "outputs": []
    },
    {
      "cell_type": "code",
      "source": [
        "lstm_model.summary()"
      ],
      "metadata": {
        "colab": {
          "base_uri": "https://localhost:8080/"
        },
        "id": "qS_34LFSjmVo",
        "outputId": "5ef44246-7d8f-412f-b02c-39f8826f09e7"
      },
      "execution_count": null,
      "outputs": [
        {
          "output_type": "stream",
          "name": "stdout",
          "text": [
            "Model: \"sequential\"\n",
            "_________________________________________________________________\n",
            " Layer (type)                Output Shape              Param #   \n",
            "=================================================================\n",
            " embedding (Embedding)       (None, 172, 32)           271200    \n",
            "                                                                 \n",
            " lstm (LSTM)                 (None, 100)               53200     \n",
            "                                                                 \n",
            " dropout (Dropout)           (None, 100)               0         \n",
            "                                                                 \n",
            " dense (Dense)               (None, 20)                2020      \n",
            "                                                                 \n",
            " dropout_1 (Dropout)         (None, 20)                0         \n",
            "                                                                 \n",
            " dense_1 (Dense)             (None, 1)                 21        \n",
            "                                                                 \n",
            "=================================================================\n",
            "Total params: 326,441\n",
            "Trainable params: 326,441\n",
            "Non-trainable params: 0\n",
            "_________________________________________________________________\n"
          ]
        }
      ]
    },
    {
      "cell_type": "markdown",
      "source": [
        "## Fit the Model"
      ],
      "metadata": {
        "id": "H45NGj45srVE"
      }
    },
    {
      "cell_type": "code",
      "source": [
        "lstm_model.fit(padded_sms_sequence, y, epochs = 5, validation_split=0.2, batch_size=16)"
      ],
      "metadata": {
        "colab": {
          "base_uri": "https://localhost:8080/"
        },
        "id": "6lOkOGXnjo1m",
        "outputId": "fca439a2-54ad-4aa0-a8fa-c9112d391e20"
      },
      "execution_count": null,
      "outputs": [
        {
          "output_type": "stream",
          "name": "stdout",
          "text": [
            "Epoch 1/5\n",
            "279/279 [==============================] - 34s 112ms/step - loss: 0.2117 - accuracy: 0.9361 - val_loss: 0.0662 - val_accuracy: 0.9821\n",
            "Epoch 2/5\n",
            "279/279 [==============================] - 34s 122ms/step - loss: 0.1441 - accuracy: 0.9746 - val_loss: 0.0819 - val_accuracy: 0.9830\n",
            "Epoch 3/5\n",
            "279/279 [==============================] - 32s 114ms/step - loss: 0.0272 - accuracy: 0.9953 - val_loss: 0.0638 - val_accuracy: 0.9848\n",
            "Epoch 4/5\n",
            "279/279 [==============================] - 31s 111ms/step - loss: 0.0135 - accuracy: 0.9980 - val_loss: 0.0622 - val_accuracy: 0.9865\n",
            "Epoch 5/5\n",
            "279/279 [==============================] - 31s 111ms/step - loss: 0.0111 - accuracy: 0.9978 - val_loss: 0.0684 - val_accuracy: 0.9839\n"
          ]
        },
        {
          "output_type": "execute_result",
          "data": {
            "text/plain": [
              "<keras.callbacks.History at 0x7f4de753af10>"
            ]
          },
          "metadata": {},
          "execution_count": 43
        }
      ]
    },
    {
      "cell_type": "markdown",
      "source": [
        "## Save The Model"
      ],
      "metadata": {
        "id": "jW8OWQkWstAV"
      }
    },
    {
      "cell_type": "code",
      "source": [
        "lstm_model.save('sms.h5')"
      ],
      "metadata": {
        "id": "3gXf1C7ukknK"
      },
      "execution_count": null,
      "outputs": []
    },
    {
      "cell_type": "markdown",
      "source": [
        "## Test The Model"
      ],
      "metadata": {
        "id": "C2MYvMH_syr-"
      }
    },
    {
      "cell_type": "code",
      "source": [
        "def predict_spam(predict_msg):\n",
        "    new_seq = tokenizer.texts_to_sequences(predict_msg)\n",
        "    padded = pad_sequences(new_seq, maxlen =max_length_sequence,\n",
        "                      padding = 'pre')\n",
        "    return (lstm_model.predict(padded))"
      ],
      "metadata": {
        "id": "6zWeI1Typf2E"
      },
      "execution_count": null,
      "outputs": []
    },
    {
      "cell_type": "code",
      "source": [
        "message = str(input('Enter your message: '))\n",
        "pred = predict_spam(message)\n",
        "print(f\"Prediction: {pred[0][0]}\\n\")\n",
        "print(f\"The sms is a {'spam' if pred[0][0]<0.5 else 'ham'}\")"
      ],
      "metadata": {
        "colab": {
          "base_uri": "https://localhost:8080/"
        },
        "id": "_O-sEIItk00K",
        "outputId": "958eff89-e310-4c98-fe7c-ebf0da5c5e31"
      },
      "execution_count": null,
      "outputs": [
        {
          "output_type": "stream",
          "name": "stdout",
          "text": [
            "Enter your message: you've won something, the IRS is trying to contact you, you have a refund coming or asking you to verify your bank account\n",
            "4/4 [==============================] - 0s 36ms/step\n",
            "Prediction: 0.005271350499242544\n",
            "\n",
            "The sms is a spam\n"
          ]
        }
      ]
    }
  ]
}