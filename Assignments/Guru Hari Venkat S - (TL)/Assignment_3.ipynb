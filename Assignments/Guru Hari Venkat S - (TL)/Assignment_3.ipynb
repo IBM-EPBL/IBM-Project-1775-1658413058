{
  "nbformat": 4,
  "nbformat_minor": 0,
  "metadata": {
    "colab": {
      "provenance": [],
      "collapsed_sections": []
    },
    "kernelspec": {
      "name": "python3",
      "display_name": "Python 3"
    },
    "language_info": {
      "name": "python"
    },
    "accelerator": "GPU"
  },
  "cells": [
    {
      "cell_type": "markdown",
      "source": [
        "![Screenshot from 2022-11-04 10-28-43.png](data:image/png;base64,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)"
      ],
      "metadata": {
        "id": "gC7-_aZmBgUQ"
      }
    },
    {
      "cell_type": "markdown",
      "source": [
        "# CNN Model training"
      ],
      "metadata": {
        "id": "VU1S70dtYEwk"
      }
    },
    {
      "cell_type": "markdown",
      "source": [
        "# Image Dataset\n",
        "\n"
      ],
      "metadata": {
        "id": "k-lWuC7Yb765"
      }
    },
    {
      "cell_type": "code",
      "source": [
        "!unzip 'drive/MyDrive/IBM assignments/Flowers-Dataset.zip'"
      ],
      "metadata": {
        "id": "SOIK-esIZpgF"
      },
      "execution_count": null,
      "outputs": []
    },
    {
      "cell_type": "markdown",
      "source": [
        "### Import requirements"
      ],
      "metadata": {
        "id": "jvbjOt1kcGDh"
      }
    },
    {
      "cell_type": "code",
      "execution_count": null,
      "metadata": {
        "id": "lbUMKjp8MzG5"
      },
      "outputs": [],
      "source": [
        "from tensorflow.keras.preprocessing.image import ImageDataGenerator\n",
        "from tensorflow.keras.models import Sequential\n",
        "from tensorflow.keras.layers import Convolution2D, MaxPooling2D, Flatten, Dense\n",
        "import numpy as np\n",
        "from tensorflow.keras.preprocessing import image"
      ]
    },
    {
      "cell_type": "markdown",
      "source": [
        "# Image Augmentation"
      ],
      "metadata": {
        "id": "PM8yKZvbcMS2"
      }
    },
    {
      "cell_type": "code",
      "source": [
        "image_gen_train = ImageDataGenerator(\n",
        "      rescale=1./255,\n",
        "      rotation_range=40,\n",
        "      width_shift_range=0.2,\n",
        "      height_shift_range=0.2,\n",
        "      shear_range=0.2,\n",
        "      zoom_range=0.2,\n",
        "      horizontal_flip=True,\n",
        "      fill_mode='nearest')"
      ],
      "metadata": {
        "id": "ctvSfUwXop1W"
      },
      "execution_count": null,
      "outputs": []
    },
    {
      "cell_type": "code",
      "source": [
        "x_train = image_gen_train.flow_from_directory(batch_size=100,\n",
        "                                                     directory='flowers',    \n",
        "                                                     shuffle=True,\n",
        "                                                     target_size=(64,64),\n",
        "                                                     class_mode='categorical')"
      ],
      "metadata": {
        "colab": {
          "base_uri": "https://localhost:8080/"
        },
        "id": "70xKzF8Ro3th",
        "outputId": "db2be01c-3c91-4326-e66f-20c2d6cba306"
      },
      "execution_count": null,
      "outputs": [
        {
          "output_type": "stream",
          "name": "stdout",
          "text": [
            "Found 4317 images belonging to 5 classes.\n"
          ]
        }
      ]
    },
    {
      "cell_type": "markdown",
      "source": [
        "# Create Model"
      ],
      "metadata": {
        "id": "0eY3ci70cScN"
      }
    },
    {
      "cell_type": "markdown",
      "source": [
        "###  Add Layers Convolution, MaxPooling, Flatten, Dense Hidden Layers, Output"
      ],
      "metadata": {
        "id": "h4I1nHC85VTU"
      }
    },
    {
      "cell_type": "code",
      "source": [
        "model = Sequential()\n",
        "model.add(Convolution2D(32,(4,4), activation='relu', input_shape=(64,64,3)))\n",
        "model.add(MaxPooling2D(pool_size=(3,3)))\n",
        "model.add(Flatten())\n",
        "model.add(Dense(300,activation='relu'))\n",
        "model.add(Dense(500,activation='relu'))\n",
        "model.add(Dense(700,activation='relu'))\n",
        "model.add(Dense(900,activation='relu'))\n",
        "model.add(Dense(800,activation='relu'))\n",
        "model.add(Dense(5,activation='softmax'))"
      ],
      "metadata": {
        "id": "0yUcnMzNcYOT"
      },
      "execution_count": null,
      "outputs": []
    },
    {
      "cell_type": "markdown",
      "source": [
        "# Compile The Model"
      ],
      "metadata": {
        "id": "CaIY4v_65r98"
      }
    },
    {
      "cell_type": "code",
      "source": [
        "model.compile(optimizer='adam',loss='categorical_crossentropy', metrics=['accuracy'])"
      ],
      "metadata": {
        "id": "hWFgwyyAc-IG"
      },
      "execution_count": null,
      "outputs": []
    },
    {
      "cell_type": "markdown",
      "source": [
        "# Fit The Model"
      ],
      "metadata": {
        "id": "_rluO7E05xx1"
      }
    },
    {
      "cell_type": "code",
      "source": [
        "model.fit(x_train, steps_per_epoch=len(x_train), epochs=100)"
      ],
      "metadata": {
        "colab": {
          "base_uri": "https://localhost:8080/"
        },
        "id": "3YJrULcZdDeC",
        "outputId": "838a08f9-2b90-4edb-d00c-37a665d60e26"
      },
      "execution_count": null,
      "outputs": [
        {
          "output_type": "stream",
          "name": "stdout",
          "text": [
            "Epoch 1/100\n",
            "44/44 [==============================] - 14s 327ms/step - loss: 0.8491 - accuracy: 0.6729\n",
            "Epoch 2/100\n",
            "44/44 [==============================] - 14s 324ms/step - loss: 0.8388 - accuracy: 0.6729\n",
            "Epoch 3/100\n",
            "44/44 [==============================] - 14s 327ms/step - loss: 0.8766 - accuracy: 0.6627\n",
            "Epoch 4/100\n",
            "44/44 [==============================] - 14s 326ms/step - loss: 0.8553 - accuracy: 0.6690\n",
            "Epoch 5/100\n",
            "44/44 [==============================] - 14s 324ms/step - loss: 0.8148 - accuracy: 0.6859\n",
            "Epoch 6/100\n",
            "44/44 [==============================] - 14s 324ms/step - loss: 0.8194 - accuracy: 0.6857\n",
            "Epoch 7/100\n",
            "44/44 [==============================] - 15s 351ms/step - loss: 0.8133 - accuracy: 0.6871\n",
            "Epoch 8/100\n",
            "44/44 [==============================] - 14s 329ms/step - loss: 0.7986 - accuracy: 0.6938\n",
            "Epoch 9/100\n",
            "44/44 [==============================] - 14s 324ms/step - loss: 0.7976 - accuracy: 0.7009\n",
            "Epoch 10/100\n",
            "44/44 [==============================] - 14s 325ms/step - loss: 0.7829 - accuracy: 0.6986\n",
            "Epoch 11/100\n",
            "44/44 [==============================] - 14s 324ms/step - loss: 0.7885 - accuracy: 0.7016\n",
            "Epoch 12/100\n",
            "44/44 [==============================] - 14s 323ms/step - loss: 0.7674 - accuracy: 0.6972\n",
            "Epoch 13/100\n",
            "44/44 [==============================] - 14s 321ms/step - loss: 0.8201 - accuracy: 0.6859\n",
            "Epoch 14/100\n",
            "44/44 [==============================] - 15s 332ms/step - loss: 0.7691 - accuracy: 0.7116\n",
            "Epoch 15/100\n",
            "44/44 [==============================] - 14s 327ms/step - loss: 0.7651 - accuracy: 0.7016\n",
            "Epoch 16/100\n",
            "44/44 [==============================] - 14s 327ms/step - loss: 0.7344 - accuracy: 0.7153\n",
            "Epoch 17/100\n",
            "44/44 [==============================] - 14s 329ms/step - loss: 0.7268 - accuracy: 0.7248\n",
            "Epoch 18/100\n",
            "44/44 [==============================] - 14s 327ms/step - loss: 0.7488 - accuracy: 0.7116\n",
            "Epoch 19/100\n",
            "44/44 [==============================] - 14s 325ms/step - loss: 0.7399 - accuracy: 0.7111\n",
            "Epoch 20/100\n",
            "44/44 [==============================] - 16s 355ms/step - loss: 0.7295 - accuracy: 0.7209\n",
            "Epoch 21/100\n",
            "44/44 [==============================] - 14s 328ms/step - loss: 0.7283 - accuracy: 0.7123\n",
            "Epoch 22/100\n",
            "44/44 [==============================] - 14s 323ms/step - loss: 0.7308 - accuracy: 0.7262\n",
            "Epoch 23/100\n",
            "44/44 [==============================] - 14s 321ms/step - loss: 0.7163 - accuracy: 0.7239\n",
            "Epoch 24/100\n",
            "44/44 [==============================] - 14s 321ms/step - loss: 0.7193 - accuracy: 0.7195\n",
            "Epoch 25/100\n",
            "44/44 [==============================] - 14s 322ms/step - loss: 0.7022 - accuracy: 0.7350\n",
            "Epoch 26/100\n",
            "44/44 [==============================] - 14s 331ms/step - loss: 0.6853 - accuracy: 0.7359\n",
            "Epoch 27/100\n",
            "44/44 [==============================] - 14s 324ms/step - loss: 0.6735 - accuracy: 0.7415\n",
            "Epoch 28/100\n",
            "44/44 [==============================] - 14s 321ms/step - loss: 0.6622 - accuracy: 0.7345\n",
            "Epoch 29/100\n",
            "44/44 [==============================] - 14s 324ms/step - loss: 0.6519 - accuracy: 0.7533\n",
            "Epoch 30/100\n",
            "44/44 [==============================] - 14s 322ms/step - loss: 0.6739 - accuracy: 0.7387\n",
            "Epoch 31/100\n",
            "44/44 [==============================] - 14s 325ms/step - loss: 0.6655 - accuracy: 0.7417\n",
            "Epoch 32/100\n",
            "44/44 [==============================] - 15s 342ms/step - loss: 0.6756 - accuracy: 0.7452\n",
            "Epoch 33/100\n",
            "44/44 [==============================] - 14s 330ms/step - loss: 0.6760 - accuracy: 0.7422\n",
            "Epoch 34/100\n",
            "44/44 [==============================] - 14s 326ms/step - loss: 0.6540 - accuracy: 0.7549\n",
            "Epoch 35/100\n",
            "44/44 [==============================] - 14s 323ms/step - loss: 0.6555 - accuracy: 0.7468\n",
            "Epoch 36/100\n",
            "44/44 [==============================] - 14s 326ms/step - loss: 0.6468 - accuracy: 0.7501\n",
            "Epoch 37/100\n",
            "44/44 [==============================] - 14s 324ms/step - loss: 0.6295 - accuracy: 0.7582\n",
            "Epoch 38/100\n",
            "44/44 [==============================] - 14s 321ms/step - loss: 0.6185 - accuracy: 0.7660\n",
            "Epoch 39/100\n",
            "44/44 [==============================] - 14s 322ms/step - loss: 0.6136 - accuracy: 0.7672\n",
            "Epoch 40/100\n",
            "44/44 [==============================] - 14s 323ms/step - loss: 0.6283 - accuracy: 0.7512\n",
            "Epoch 41/100\n",
            "44/44 [==============================] - 14s 323ms/step - loss: 0.6187 - accuracy: 0.7623\n",
            "Epoch 42/100\n",
            "44/44 [==============================] - 14s 323ms/step - loss: 0.6403 - accuracy: 0.7526\n",
            "Epoch 43/100\n",
            "44/44 [==============================] - 14s 325ms/step - loss: 0.6459 - accuracy: 0.7547\n",
            "Epoch 44/100\n",
            "44/44 [==============================] - 14s 321ms/step - loss: 0.6031 - accuracy: 0.7697\n",
            "Epoch 45/100\n",
            "44/44 [==============================] - 15s 353ms/step - loss: 0.6089 - accuracy: 0.7596\n",
            "Epoch 46/100\n",
            "44/44 [==============================] - 14s 324ms/step - loss: 0.6015 - accuracy: 0.7656\n",
            "Epoch 47/100\n",
            "44/44 [==============================] - 14s 322ms/step - loss: 0.5977 - accuracy: 0.7672\n",
            "Epoch 48/100\n",
            "44/44 [==============================] - 14s 321ms/step - loss: 0.6015 - accuracy: 0.7704\n",
            "Epoch 49/100\n",
            "44/44 [==============================] - 14s 322ms/step - loss: 0.5831 - accuracy: 0.7762\n",
            "Epoch 50/100\n",
            "44/44 [==============================] - 14s 323ms/step - loss: 0.5603 - accuracy: 0.7818\n",
            "Epoch 51/100\n",
            "44/44 [==============================] - 14s 320ms/step - loss: 0.5805 - accuracy: 0.7693\n",
            "Epoch 52/100\n",
            "44/44 [==============================] - 14s 323ms/step - loss: 0.5806 - accuracy: 0.7709\n",
            "Epoch 53/100\n",
            "44/44 [==============================] - 14s 324ms/step - loss: 0.5723 - accuracy: 0.7892\n",
            "Epoch 54/100\n",
            "44/44 [==============================] - 14s 325ms/step - loss: 0.5698 - accuracy: 0.7816\n",
            "Epoch 55/100\n",
            "44/44 [==============================] - 14s 322ms/step - loss: 0.5628 - accuracy: 0.7843\n",
            "Epoch 56/100\n",
            "44/44 [==============================] - 14s 320ms/step - loss: 0.5666 - accuracy: 0.7850\n",
            "Epoch 57/100\n",
            "44/44 [==============================] - 15s 352ms/step - loss: 0.5535 - accuracy: 0.7918\n",
            "Epoch 58/100\n",
            "44/44 [==============================] - 14s 324ms/step - loss: 0.5787 - accuracy: 0.7802\n",
            "Epoch 59/100\n",
            "44/44 [==============================] - 14s 322ms/step - loss: 0.5544 - accuracy: 0.7885\n",
            "Epoch 60/100\n",
            "44/44 [==============================] - 14s 324ms/step - loss: 0.5449 - accuracy: 0.7880\n",
            "Epoch 61/100\n",
            "44/44 [==============================] - 14s 323ms/step - loss: 0.5459 - accuracy: 0.7950\n",
            "Epoch 62/100\n",
            "44/44 [==============================] - 14s 319ms/step - loss: 0.5317 - accuracy: 0.7968\n",
            "Epoch 63/100\n",
            "44/44 [==============================] - 14s 320ms/step - loss: 0.5428 - accuracy: 0.7906\n",
            "Epoch 64/100\n",
            "44/44 [==============================] - 14s 323ms/step - loss: 0.5153 - accuracy: 0.8013\n",
            "Epoch 65/100\n",
            "44/44 [==============================] - 14s 324ms/step - loss: 0.5241 - accuracy: 0.7945\n",
            "Epoch 66/100\n",
            "44/44 [==============================] - 14s 324ms/step - loss: 0.5332 - accuracy: 0.7899\n",
            "Epoch 67/100\n",
            "44/44 [==============================] - 14s 323ms/step - loss: 0.5414 - accuracy: 0.7985\n",
            "Epoch 68/100\n",
            "44/44 [==============================] - 14s 323ms/step - loss: 0.5314 - accuracy: 0.7952\n",
            "Epoch 69/100\n",
            "44/44 [==============================] - 14s 322ms/step - loss: 0.5117 - accuracy: 0.8043\n",
            "Epoch 70/100\n",
            "44/44 [==============================] - 16s 357ms/step - loss: 0.5059 - accuracy: 0.8040\n",
            "Epoch 71/100\n",
            "44/44 [==============================] - 14s 327ms/step - loss: 0.4936 - accuracy: 0.8080\n",
            "Epoch 72/100\n",
            "44/44 [==============================] - 14s 326ms/step - loss: 0.5027 - accuracy: 0.8089\n",
            "Epoch 73/100\n",
            "44/44 [==============================] - 14s 329ms/step - loss: 0.4889 - accuracy: 0.8124\n",
            "Epoch 74/100\n",
            "44/44 [==============================] - 14s 323ms/step - loss: 0.4955 - accuracy: 0.8103\n",
            "Epoch 75/100\n",
            "44/44 [==============================] - 14s 325ms/step - loss: 0.4757 - accuracy: 0.8186\n",
            "Epoch 76/100\n",
            "44/44 [==============================] - 14s 326ms/step - loss: 0.4749 - accuracy: 0.8170\n",
            "Epoch 77/100\n",
            "44/44 [==============================] - 14s 325ms/step - loss: 0.4917 - accuracy: 0.8070\n",
            "Epoch 78/100\n",
            "44/44 [==============================] - 15s 331ms/step - loss: 0.5089 - accuracy: 0.8096\n",
            "Epoch 79/100\n",
            "44/44 [==============================] - 15s 338ms/step - loss: 0.4806 - accuracy: 0.8140\n",
            "Epoch 80/100\n",
            "44/44 [==============================] - 14s 327ms/step - loss: 0.4573 - accuracy: 0.8196\n",
            "Epoch 81/100\n",
            "44/44 [==============================] - 14s 322ms/step - loss: 0.4975 - accuracy: 0.8117\n",
            "Epoch 82/100\n",
            "44/44 [==============================] - 16s 354ms/step - loss: 0.4484 - accuracy: 0.8290\n",
            "Epoch 83/100\n",
            "44/44 [==============================] - 14s 322ms/step - loss: 0.4755 - accuracy: 0.8230\n",
            "Epoch 84/100\n",
            "44/44 [==============================] - 14s 321ms/step - loss: 0.4793 - accuracy: 0.8135\n",
            "Epoch 85/100\n",
            "44/44 [==============================] - 14s 321ms/step - loss: 0.4569 - accuracy: 0.8228\n",
            "Epoch 86/100\n",
            "44/44 [==============================] - 14s 324ms/step - loss: 0.4570 - accuracy: 0.8223\n",
            "Epoch 87/100\n",
            "44/44 [==============================] - 14s 324ms/step - loss: 0.4535 - accuracy: 0.8228\n",
            "Epoch 88/100\n",
            "44/44 [==============================] - 14s 328ms/step - loss: 0.4411 - accuracy: 0.8256\n",
            "Epoch 89/100\n",
            "44/44 [==============================] - 14s 324ms/step - loss: 0.4484 - accuracy: 0.8304\n",
            "Epoch 90/100\n",
            "44/44 [==============================] - 14s 322ms/step - loss: 0.4336 - accuracy: 0.8334\n",
            "Epoch 91/100\n",
            "44/44 [==============================] - 14s 323ms/step - loss: 0.4363 - accuracy: 0.8328\n",
            "Epoch 92/100\n",
            "44/44 [==============================] - 14s 322ms/step - loss: 0.4342 - accuracy: 0.8323\n",
            "Epoch 93/100\n",
            "44/44 [==============================] - 14s 323ms/step - loss: 0.4611 - accuracy: 0.8158\n",
            "Epoch 94/100\n",
            "44/44 [==============================] - 16s 355ms/step - loss: 0.4241 - accuracy: 0.8381\n",
            "Epoch 95/100\n",
            "44/44 [==============================] - 14s 319ms/step - loss: 0.4296 - accuracy: 0.8374\n",
            "Epoch 96/100\n",
            "44/44 [==============================] - 14s 323ms/step - loss: 0.4079 - accuracy: 0.8395\n",
            "Epoch 97/100\n",
            "44/44 [==============================] - 14s 324ms/step - loss: 0.4390 - accuracy: 0.8351\n",
            "Epoch 98/100\n",
            "44/44 [==============================] - 15s 330ms/step - loss: 0.4296 - accuracy: 0.8316\n",
            "Epoch 99/100\n",
            "44/44 [==============================] - 14s 323ms/step - loss: 0.4234 - accuracy: 0.8411\n",
            "Epoch 100/100\n",
            "44/44 [==============================] - 14s 325ms/step - loss: 0.4305 - accuracy: 0.8390\n"
          ]
        },
        {
          "output_type": "execute_result",
          "data": {
            "text/plain": [
              "<keras.callbacks.History at 0x7f88007632d0>"
            ]
          },
          "metadata": {},
          "execution_count": 48
        }
      ]
    },
    {
      "cell_type": "markdown",
      "source": [
        "# Save The Model"
      ],
      "metadata": {
        "id": "-1DR6KG753eO"
      }
    },
    {
      "cell_type": "code",
      "source": [
        "model.save('model2.h5')"
      ],
      "metadata": {
        "id": "Gm7pN4R6lrm3"
      },
      "execution_count": null,
      "outputs": []
    },
    {
      "cell_type": "markdown",
      "source": [
        "# Test The Model"
      ],
      "metadata": {
        "id": "5zFyRI4v555d"
      }
    },
    {
      "cell_type": "code",
      "source": [
        "image_path = f'/content/img_1.jpeg'\n",
        "img = image.load_img(image_path,target_size=(64,64))\n",
        "x = image.img_to_array(img)\n",
        "x = np.expand_dims(x,axis=0)\n",
        "pred = np.argmax(model.predict(x))\n",
        "op = ['daisy','dandelion','rose','sunflower','tulip']\n",
        "print(op[pred])"
      ],
      "metadata": {
        "colab": {
          "base_uri": "https://localhost:8080/"
        },
        "id": "zXoNmWymmmoB",
        "outputId": "956e61fd-19e1-466d-ac9a-f33efbf5a3a2"
      },
      "execution_count": null,
      "outputs": [
        {
          "output_type": "stream",
          "name": "stdout",
          "text": [
            "1/1 [==============================] - 0s 15ms/step\n",
            "sunflower\n"
          ]
        }
      ]
    }
  ]
}