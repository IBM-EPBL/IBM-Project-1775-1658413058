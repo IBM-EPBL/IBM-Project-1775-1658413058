{
  "cells": [
    {
      "cell_type": "markdown",
      "metadata": {
        "id": "BJN6n5SyBSPr"
      },
      "source": [
        "# Unzip Dataset"
      ]
    },
    {
      "cell_type": "code",
      "execution_count": null,
      "metadata": {
        "id": "5k3ARJH4BTio"
      },
      "outputs": [],
      "source": [
        "!unzip '/content/drive/MyDrive/Colab Notebooks/ibm/assignment_3/Flowers-Dataset.zip'"
      ]
    },
    {
      "cell_type": "markdown",
      "metadata": {
        "id": "fnomGNDFAHs5"
      },
      "source": [
        "# Image Augmentation"
      ]
    },
    {
      "cell_type": "code",
      "execution_count": null,
      "metadata": {
        "id": "BqAjIJ6O76tj"
      },
      "outputs": [],
      "source": [
        "from tensorflow.keras.preprocessing.image import ImageDataGenerator"
      ]
    },
    {
      "cell_type": "code",
      "execution_count": null,
      "metadata": {
        "id": "G4Axyt-OCWcL"
      },
      "outputs": [],
      "source": [
        "train_datagen = ImageDataGenerator(rescale=1./255, zoom_range=0.4, horizontal_flip=True, vertical_flip=True)"
      ]
    },
    {
      "cell_type": "code",
      "execution_count": null,
      "metadata": {
        "colab": {
          "base_uri": "https://localhost:8080/"
        },
        "id": "n2V6FzQECWWd",
        "outputId": "4cf9a50f-6562-4b5f-ac4c-0418d01b500d"
      },
      "outputs": [
        {
          "name": "stdout",
          "output_type": "stream",
          "text": [
            "Found 4317 images belonging to 5 classes.\n"
          ]
        }
      ],
      "source": [
        "x_train = train_datagen.flow_from_directory('/content/flowers', target_size=(64,64),class_mode='categorical',batch_size=100)"
      ]
    },
    {
      "cell_type": "markdown",
      "metadata": {
        "id": "SYIgZjL8Il3_"
      },
      "source": [
        "# CNN Model Training"
      ]
    },
    {
      "cell_type": "code",
      "execution_count": null,
      "metadata": {
        "id": "Uh0ObTFECWQ0"
      },
      "outputs": [],
      "source": [
        "from tensorflow.keras.models import Sequential\n",
        "from tensorflow.keras.layers import Convolution2D, MaxPooling2D, Flatten, Dense"
      ]
    },
    {
      "cell_type": "code",
      "execution_count": null,
      "metadata": {
        "id": "zIEmH5RBCWOL"
      },
      "outputs": [],
      "source": [
        "model = Sequential()\n",
        "model.add(Convolution2D(32,(4,4), activation='relu', input_shape=(64,64,3)))\n",
        "model.add(MaxPooling2D(pool_size=(3,3)))\n",
        "model.add(Flatten())\n",
        "model.add(Dense(100,activation='relu'))\n",
        "model.add(Dense(400,activation='relu'))\n",
        "model.add(Dense(800,activation='relu'))\n",
        "model.add(Dense(1000,activation='relu'))\n",
        "model.add(Dense(500,activation='relu'))\n",
        "model.add(Dense(5,activation='softmax'))\n"
      ]
    },
    {
      "cell_type": "code",
      "execution_count": null,
      "metadata": {
        "id": "He6t5zGUCWLe"
      },
      "outputs": [],
      "source": [
        "model.compile(optimizer='adam',loss='categorical_crossentropy', metrics=['accuracy'])"
      ]
    },
    {
      "cell_type": "code",
      "execution_count": null,
      "metadata": {
        "colab": {
          "base_uri": "https://localhost:8080/"
        },
        "id": "X3ijCYfwCWIj",
        "outputId": "57be8bf2-59a4-4012-d057-e4dd8594e1f9"
      },
      "outputs": [
        {
          "name": "stdout",
          "output_type": "stream",
          "text": [
            "Epoch 1/100\n",
            "44/44 [==============================] - 23s 316ms/step - loss: 1.4233 - accuracy: 0.3519\n",
            "Epoch 2/100\n",
            "44/44 [==============================] - 14s 323ms/step - loss: 1.1908 - accuracy: 0.4888\n",
            "Epoch 3/100\n",
            "44/44 [==============================] - 14s 326ms/step - loss: 1.0967 - accuracy: 0.5555\n",
            "Epoch 4/100\n",
            "44/44 [==============================] - 14s 319ms/step - loss: 1.0610 - accuracy: 0.5729\n",
            "Epoch 5/100\n",
            "44/44 [==============================] - 14s 321ms/step - loss: 1.0163 - accuracy: 0.5983\n",
            "Epoch 6/100\n",
            "44/44 [==============================] - 14s 323ms/step - loss: 0.9854 - accuracy: 0.6189\n",
            "Epoch 7/100\n",
            "44/44 [==============================] - 14s 315ms/step - loss: 0.9761 - accuracy: 0.6134\n",
            "Epoch 8/100\n",
            "44/44 [==============================] - 14s 320ms/step - loss: 0.9458 - accuracy: 0.6359\n",
            "Epoch 9/100\n",
            "44/44 [==============================] - 14s 318ms/step - loss: 0.9075 - accuracy: 0.6507\n",
            "Epoch 10/100\n",
            "44/44 [==============================] - 15s 350ms/step - loss: 0.8838 - accuracy: 0.6479\n",
            "Epoch 11/100\n",
            "44/44 [==============================] - 14s 317ms/step - loss: 0.8612 - accuracy: 0.6697\n",
            "Epoch 12/100\n",
            "44/44 [==============================] - 14s 323ms/step - loss: 0.8614 - accuracy: 0.6741\n",
            "Epoch 13/100\n",
            "44/44 [==============================] - 14s 319ms/step - loss: 0.8413 - accuracy: 0.6836\n",
            "Epoch 14/100\n",
            "44/44 [==============================] - 14s 323ms/step - loss: 0.8273 - accuracy: 0.6789\n",
            "Epoch 15/100\n",
            "44/44 [==============================] - 14s 320ms/step - loss: 0.8139 - accuracy: 0.6826\n",
            "Epoch 16/100\n",
            "44/44 [==============================] - 14s 319ms/step - loss: 0.7853 - accuracy: 0.7035\n",
            "Epoch 17/100\n",
            "44/44 [==============================] - 14s 317ms/step - loss: 0.7933 - accuracy: 0.6977\n",
            "Epoch 18/100\n",
            "44/44 [==============================] - 14s 322ms/step - loss: 0.7924 - accuracy: 0.6947\n",
            "Epoch 19/100\n",
            "44/44 [==============================] - 14s 320ms/step - loss: 0.7821 - accuracy: 0.6956\n",
            "Epoch 20/100\n",
            "44/44 [==============================] - 16s 354ms/step - loss: 0.7687 - accuracy: 0.7081\n",
            "Epoch 21/100\n",
            "44/44 [==============================] - 14s 321ms/step - loss: 0.7715 - accuracy: 0.7054\n",
            "Epoch 22/100\n",
            "44/44 [==============================] - 14s 324ms/step - loss: 0.7523 - accuracy: 0.7109\n",
            "Epoch 23/100\n",
            "44/44 [==============================] - 14s 327ms/step - loss: 0.7362 - accuracy: 0.7209\n",
            "Epoch 24/100\n",
            "44/44 [==============================] - 14s 324ms/step - loss: 0.7228 - accuracy: 0.7304\n",
            "Epoch 25/100\n",
            "44/44 [==============================] - 14s 321ms/step - loss: 0.7277 - accuracy: 0.7239\n",
            "Epoch 26/100\n",
            "44/44 [==============================] - 14s 320ms/step - loss: 0.7151 - accuracy: 0.7267\n",
            "Epoch 27/100\n",
            "44/44 [==============================] - 14s 322ms/step - loss: 0.7081 - accuracy: 0.7306\n",
            "Epoch 28/100\n",
            "44/44 [==============================] - 14s 323ms/step - loss: 0.6970 - accuracy: 0.7285\n",
            "Epoch 29/100\n",
            "44/44 [==============================] - 14s 319ms/step - loss: 0.6897 - accuracy: 0.7315\n",
            "Epoch 30/100\n",
            "44/44 [==============================] - 15s 347ms/step - loss: 0.6729 - accuracy: 0.7426\n",
            "Epoch 31/100\n",
            "44/44 [==============================] - 14s 320ms/step - loss: 0.6555 - accuracy: 0.7498\n",
            "Epoch 32/100\n",
            "44/44 [==============================] - 14s 318ms/step - loss: 0.6578 - accuracy: 0.7461\n",
            "Epoch 33/100\n",
            "44/44 [==============================] - 14s 319ms/step - loss: 0.6602 - accuracy: 0.7438\n",
            "Epoch 34/100\n",
            "44/44 [==============================] - 14s 319ms/step - loss: 0.6496 - accuracy: 0.7521\n",
            "Epoch 35/100\n",
            "44/44 [==============================] - 14s 323ms/step - loss: 0.6609 - accuracy: 0.7466\n",
            "Epoch 36/100\n",
            "44/44 [==============================] - 14s 318ms/step - loss: 0.6450 - accuracy: 0.7517\n",
            "Epoch 37/100\n",
            "44/44 [==============================] - 14s 320ms/step - loss: 0.6576 - accuracy: 0.7487\n",
            "Epoch 38/100\n",
            "44/44 [==============================] - 14s 321ms/step - loss: 0.6433 - accuracy: 0.7552\n",
            "Epoch 39/100\n",
            "44/44 [==============================] - 14s 321ms/step - loss: 0.6159 - accuracy: 0.7649\n",
            "Epoch 40/100\n",
            "44/44 [==============================] - 15s 350ms/step - loss: 0.6258 - accuracy: 0.7535\n",
            "Epoch 41/100\n",
            "44/44 [==============================] - 14s 319ms/step - loss: 0.6134 - accuracy: 0.7686\n",
            "Epoch 42/100\n",
            "44/44 [==============================] - 14s 320ms/step - loss: 0.5947 - accuracy: 0.7758\n",
            "Epoch 43/100\n",
            "44/44 [==============================] - 14s 319ms/step - loss: 0.6314 - accuracy: 0.7593\n",
            "Epoch 44/100\n",
            "44/44 [==============================] - 14s 321ms/step - loss: 0.5720 - accuracy: 0.7883\n",
            "Epoch 45/100\n",
            "44/44 [==============================] - 14s 322ms/step - loss: 0.5898 - accuracy: 0.7790\n",
            "Epoch 46/100\n",
            "44/44 [==============================] - 14s 318ms/step - loss: 0.5670 - accuracy: 0.7855\n",
            "Epoch 47/100\n",
            "44/44 [==============================] - 14s 317ms/step - loss: 0.5734 - accuracy: 0.7721\n",
            "Epoch 48/100\n",
            "44/44 [==============================] - 14s 316ms/step - loss: 0.6076 - accuracy: 0.7637\n",
            "Epoch 49/100\n",
            "44/44 [==============================] - 14s 317ms/step - loss: 0.5703 - accuracy: 0.7785\n",
            "Epoch 50/100\n",
            "44/44 [==============================] - 14s 320ms/step - loss: 0.5527 - accuracy: 0.7913\n",
            "Epoch 51/100\n",
            "44/44 [==============================] - 15s 348ms/step - loss: 0.5717 - accuracy: 0.7880\n",
            "Epoch 52/100\n",
            "44/44 [==============================] - 14s 319ms/step - loss: 0.5435 - accuracy: 0.7934\n",
            "Epoch 53/100\n",
            "44/44 [==============================] - 14s 320ms/step - loss: 0.5544 - accuracy: 0.7924\n",
            "Epoch 54/100\n",
            "44/44 [==============================] - 14s 319ms/step - loss: 0.5359 - accuracy: 0.7982\n",
            "Epoch 55/100\n",
            "44/44 [==============================] - 14s 317ms/step - loss: 0.5540 - accuracy: 0.7855\n",
            "Epoch 56/100\n",
            "44/44 [==============================] - 14s 318ms/step - loss: 0.5215 - accuracy: 0.8052\n",
            "Epoch 57/100\n",
            "44/44 [==============================] - 14s 317ms/step - loss: 0.5277 - accuracy: 0.7971\n",
            "Epoch 58/100\n",
            "44/44 [==============================] - 14s 318ms/step - loss: 0.5203 - accuracy: 0.7980\n",
            "Epoch 59/100\n",
            "44/44 [==============================] - 14s 318ms/step - loss: 0.5173 - accuracy: 0.8026\n",
            "Epoch 60/100\n",
            "44/44 [==============================] - 14s 319ms/step - loss: 0.5273 - accuracy: 0.7966\n",
            "Epoch 61/100\n",
            "44/44 [==============================] - 14s 324ms/step - loss: 0.5018 - accuracy: 0.8112\n",
            "Epoch 62/100\n",
            "44/44 [==============================] - 15s 340ms/step - loss: 0.5214 - accuracy: 0.8047\n",
            "Epoch 63/100\n",
            "44/44 [==============================] - 14s 318ms/step - loss: 0.5275 - accuracy: 0.7978\n",
            "Epoch 64/100\n",
            "44/44 [==============================] - 14s 321ms/step - loss: 0.5575 - accuracy: 0.7936\n",
            "Epoch 65/100\n",
            "44/44 [==============================] - 14s 322ms/step - loss: 0.4985 - accuracy: 0.8138\n",
            "Epoch 66/100\n",
            "44/44 [==============================] - 14s 324ms/step - loss: 0.5037 - accuracy: 0.8075\n",
            "Epoch 67/100\n",
            "44/44 [==============================] - 14s 319ms/step - loss: 0.5059 - accuracy: 0.8068\n",
            "Epoch 68/100\n",
            "44/44 [==============================] - 14s 322ms/step - loss: 0.4759 - accuracy: 0.8114\n",
            "Epoch 69/100\n",
            "44/44 [==============================] - 14s 321ms/step - loss: 0.4794 - accuracy: 0.8142\n",
            "Epoch 70/100\n",
            "44/44 [==============================] - 14s 321ms/step - loss: 0.5030 - accuracy: 0.8138\n",
            "Epoch 71/100\n",
            "44/44 [==============================] - 14s 319ms/step - loss: 0.4801 - accuracy: 0.8175\n",
            "Epoch 72/100\n",
            "44/44 [==============================] - 15s 351ms/step - loss: 0.4565 - accuracy: 0.8286\n",
            "Epoch 73/100\n",
            "44/44 [==============================] - 14s 321ms/step - loss: 0.4772 - accuracy: 0.8193\n",
            "Epoch 74/100\n",
            "44/44 [==============================] - 14s 318ms/step - loss: 0.4461 - accuracy: 0.8258\n",
            "Epoch 75/100\n",
            "44/44 [==============================] - 14s 318ms/step - loss: 0.4305 - accuracy: 0.8402\n",
            "Epoch 76/100\n",
            "44/44 [==============================] - 14s 317ms/step - loss: 0.4305 - accuracy: 0.8436\n",
            "Epoch 77/100\n",
            "44/44 [==============================] - 14s 318ms/step - loss: 0.4433 - accuracy: 0.8297\n",
            "Epoch 78/100\n",
            "44/44 [==============================] - 14s 321ms/step - loss: 0.4787 - accuracy: 0.8189\n",
            "Epoch 79/100\n",
            "44/44 [==============================] - 14s 319ms/step - loss: 0.4431 - accuracy: 0.8297\n",
            "Epoch 80/100\n",
            "44/44 [==============================] - 14s 320ms/step - loss: 0.4200 - accuracy: 0.8362\n",
            "Epoch 81/100\n",
            "44/44 [==============================] - 14s 320ms/step - loss: 0.4631 - accuracy: 0.8198\n",
            "Epoch 82/100\n",
            "44/44 [==============================] - 14s 318ms/step - loss: 0.4312 - accuracy: 0.8423\n",
            "Epoch 83/100\n",
            "44/44 [==============================] - 15s 349ms/step - loss: 0.4223 - accuracy: 0.8376\n",
            "Epoch 84/100\n",
            "44/44 [==============================] - 14s 321ms/step - loss: 0.3948 - accuracy: 0.8506\n",
            "Epoch 85/100\n",
            "44/44 [==============================] - 14s 320ms/step - loss: 0.4011 - accuracy: 0.8513\n",
            "Epoch 86/100\n",
            "44/44 [==============================] - 14s 319ms/step - loss: 0.4225 - accuracy: 0.8353\n",
            "Epoch 87/100\n",
            "44/44 [==============================] - 14s 320ms/step - loss: 0.4215 - accuracy: 0.8429\n",
            "Epoch 88/100\n",
            "44/44 [==============================] - 14s 321ms/step - loss: 0.3944 - accuracy: 0.8416\n",
            "Epoch 89/100\n",
            "44/44 [==============================] - 14s 318ms/step - loss: 0.3884 - accuracy: 0.8522\n",
            "Epoch 90/100\n",
            "44/44 [==============================] - 14s 323ms/step - loss: 0.4143 - accuracy: 0.8420\n",
            "Epoch 91/100\n",
            "44/44 [==============================] - 14s 320ms/step - loss: 0.4042 - accuracy: 0.8483\n",
            "Epoch 92/100\n",
            "44/44 [==============================] - 14s 317ms/step - loss: 0.3770 - accuracy: 0.8531\n",
            "Epoch 93/100\n",
            "44/44 [==============================] - 14s 318ms/step - loss: 0.3705 - accuracy: 0.8633\n",
            "Epoch 94/100\n",
            "44/44 [==============================] - 15s 348ms/step - loss: 0.3741 - accuracy: 0.8534\n",
            "Epoch 95/100\n",
            "44/44 [==============================] - 14s 321ms/step - loss: 0.4011 - accuracy: 0.8511\n",
            "Epoch 96/100\n",
            "44/44 [==============================] - 14s 322ms/step - loss: 0.3724 - accuracy: 0.8571\n",
            "Epoch 97/100\n",
            "44/44 [==============================] - 14s 321ms/step - loss: 0.3839 - accuracy: 0.8617\n",
            "Epoch 98/100\n",
            "44/44 [==============================] - 14s 322ms/step - loss: 0.3745 - accuracy: 0.8578\n",
            "Epoch 99/100\n",
            "44/44 [==============================] - 14s 317ms/step - loss: 0.3698 - accuracy: 0.8589\n",
            "Epoch 100/100\n",
            "44/44 [==============================] - 14s 319ms/step - loss: 0.3546 - accuracy: 0.8612\n"
          ]
        },
        {
          "data": {
            "text/plain": [
              "<keras.callbacks.History at 0x7fd75fde8ed0>"
            ]
          },
          "execution_count": 8,
          "metadata": {},
          "output_type": "execute_result"
        }
      ],
      "source": [
        "model.fit(x_train,\n",
        "          steps_per_epoch=len(x_train),\n",
        "          epochs=100)"
      ]
    },
    {
      "cell_type": "code",
      "execution_count": null,
      "metadata": {
        "id": "z28CO0LRCWGD"
      },
      "outputs": [],
      "source": [
        "model.save('flowers_1.h5')"
      ]
    },
    {
      "cell_type": "markdown",
      "metadata": {
        "id": "SvDKh924MfoP"
      },
      "source": [
        "# Testing Model"
      ]
    },
    {
      "cell_type": "code",
      "execution_count": null,
      "metadata": {
        "id": "zrBFVwKnCWAr"
      },
      "outputs": [],
      "source": [
        "import numpy as np\n",
        "from tensorflow.keras.preprocessing import image"
      ]
    },
    {
      "cell_type": "code",
      "execution_count": null,
      "metadata": {
        "colab": {
          "base_uri": "https://localhost:8080/"
        },
        "id": "NV3jhxuRCV98",
        "outputId": "502d9bbb-7e6f-430f-f799-9e5d3eb4a353"
      },
      "outputs": [
        {
          "name": "stdout",
          "output_type": "stream",
          "text": [
            "1/1 [==============================] - 0s 17ms/step\n",
            "1\tdaisy\n",
            "1/1 [==============================] - 0s 15ms/step\n",
            "2\tsunflower\n",
            "1/1 [==============================] - 0s 14ms/step\n",
            "3\tsunflower\n",
            "1/1 [==============================] - 0s 14ms/step\n",
            "4\tdaisy\n",
            "1/1 [==============================] - 0s 14ms/step\n",
            "5\ttulip\n"
          ]
        }
      ],
      "source": [
        "for i in range(1,6):\n",
        "  image_path = f'/content/download ({i}).jpeg'\n",
        "  img = image.load_img(image_path,target_size=(64,64))\n",
        "  x = image.img_to_array(img)\n",
        "  x = np.expand_dims(x,axis=0)\n",
        "  pred = np.argmax(model.predict(x))\n",
        "  # print(pred, model.predict(x))\n",
        "  op = ['daisy','dandelion','rose','sunflower','tulip']\n",
        "  print(f'{i}\\t{op[pred]}')"
      ]
    },
    {
      "cell_type": "markdown",
      "metadata": {
        "id": "r7-iaU8KP0Xi"
      },
      "source": [
        "# Tuning Model"
      ]
    },
    {
      "cell_type": "code",
      "execution_count": null,
      "metadata": {
        "id": "Ngju0JbDCV2L"
      },
      "outputs": [],
      "source": [
        "from tensorflow.keras.callbacks import EarlyStopping, ReduceLROnPlateau"
      ]
    },
    {
      "cell_type": "code",
      "execution_count": null,
      "metadata": {
        "id": "-dXHm0b1CVz8"
      },
      "outputs": [],
      "source": [
        "early_stop = EarlyStopping(monitor='accuracy', patience=8)\n",
        "\n",
        "lr = ReduceLROnPlateau(monitor='accuracy', factor=0.2, patience=10, min_lr=0.1)\n",
        "\n",
        "callbacks = [early_stop,lr]"
      ]
    },
    {
      "cell_type": "code",
      "execution_count": null,
      "metadata": {
        "colab": {
          "base_uri": "https://localhost:8080/"
        },
        "id": "IX2prjuYCVxq",
        "outputId": "c78e71f8-ac33-432c-ce75-7fe16cbd9ef2"
      },
      "outputs": [
        {
          "name": "stdout",
          "output_type": "stream",
          "text": [
            "Epoch 1/50\n",
            "44/44 [==============================] - 14s 320ms/step - loss: 0.3790 - accuracy: 0.8568 - lr: 0.0010\n",
            "Epoch 2/50\n",
            "44/44 [==============================] - 14s 319ms/step - loss: 0.3534 - accuracy: 0.8650 - lr: 0.0010\n",
            "Epoch 3/50\n",
            "44/44 [==============================] - 14s 321ms/step - loss: 0.3638 - accuracy: 0.8670 - lr: 0.0010\n",
            "Epoch 4/50\n",
            "44/44 [==============================] - 14s 322ms/step - loss: 0.3467 - accuracy: 0.8700 - lr: 0.0010\n",
            "Epoch 5/50\n",
            "44/44 [==============================] - 14s 321ms/step - loss: 0.3726 - accuracy: 0.8578 - lr: 0.0010\n",
            "Epoch 6/50\n",
            "44/44 [==============================] - 14s 322ms/step - loss: 0.3611 - accuracy: 0.8663 - lr: 0.0010\n",
            "Epoch 7/50\n",
            "44/44 [==============================] - 14s 318ms/step - loss: 0.3552 - accuracy: 0.8710 - lr: 0.0010\n",
            "Epoch 8/50\n",
            "44/44 [==============================] - 14s 320ms/step - loss: 0.3385 - accuracy: 0.8691 - lr: 0.0010\n",
            "Epoch 9/50\n",
            "44/44 [==============================] - 14s 327ms/step - loss: 0.3113 - accuracy: 0.8728 - lr: 0.0010\n",
            "Epoch 10/50\n",
            "44/44 [==============================] - 14s 324ms/step - loss: 0.3429 - accuracy: 0.8700 - lr: 0.0010\n",
            "Epoch 11/50\n",
            "44/44 [==============================] - 14s 324ms/step - loss: 0.3346 - accuracy: 0.8717 - lr: 0.0010\n",
            "Epoch 12/50\n",
            "44/44 [==============================] - 16s 353ms/step - loss: 0.3334 - accuracy: 0.8786 - lr: 0.0010\n",
            "Epoch 13/50\n",
            "44/44 [==============================] - 14s 325ms/step - loss: 0.3241 - accuracy: 0.8772 - lr: 0.0010\n",
            "Epoch 14/50\n",
            "44/44 [==============================] - 14s 322ms/step - loss: 0.3160 - accuracy: 0.8842 - lr: 0.0010\n",
            "Epoch 15/50\n",
            "44/44 [==============================] - 14s 325ms/step - loss: 0.3443 - accuracy: 0.8680 - lr: 0.0010\n",
            "Epoch 16/50\n",
            "44/44 [==============================] - 14s 325ms/step - loss: 0.3256 - accuracy: 0.8768 - lr: 0.0010\n",
            "Epoch 17/50\n",
            "44/44 [==============================] - 14s 328ms/step - loss: 0.3123 - accuracy: 0.8812 - lr: 0.0010\n",
            "Epoch 18/50\n",
            "44/44 [==============================] - 14s 320ms/step - loss: 0.3128 - accuracy: 0.8761 - lr: 0.0010\n",
            "Epoch 19/50\n",
            "44/44 [==============================] - 14s 324ms/step - loss: 0.2896 - accuracy: 0.8923 - lr: 0.0010\n",
            "Epoch 20/50\n",
            "44/44 [==============================] - 14s 324ms/step - loss: 0.2952 - accuracy: 0.8902 - lr: 0.0010\n",
            "Epoch 21/50\n",
            "44/44 [==============================] - 14s 327ms/step - loss: 0.3407 - accuracy: 0.8721 - lr: 0.0010\n",
            "Epoch 22/50\n",
            "44/44 [==============================] - 14s 323ms/step - loss: 0.3274 - accuracy: 0.8765 - lr: 0.0010\n",
            "Epoch 23/50\n",
            "44/44 [==============================] - 16s 354ms/step - loss: 0.3064 - accuracy: 0.8816 - lr: 0.0010\n",
            "Epoch 24/50\n",
            "44/44 [==============================] - 14s 325ms/step - loss: 0.3041 - accuracy: 0.8837 - lr: 0.0010\n",
            "Epoch 25/50\n",
            "44/44 [==============================] - 14s 327ms/step - loss: 0.3020 - accuracy: 0.8860 - lr: 0.0010\n",
            "Epoch 26/50\n",
            "44/44 [==============================] - 14s 328ms/step - loss: 0.2828 - accuracy: 0.8969 - lr: 0.0010\n",
            "Epoch 27/50\n",
            "44/44 [==============================] - 14s 328ms/step - loss: 0.2955 - accuracy: 0.8890 - lr: 0.0010\n",
            "Epoch 28/50\n",
            "44/44 [==============================] - 15s 332ms/step - loss: 0.2880 - accuracy: 0.8914 - lr: 0.0010\n",
            "Epoch 29/50\n",
            "44/44 [==============================] - 14s 327ms/step - loss: 0.2947 - accuracy: 0.8877 - lr: 0.0010\n",
            "Epoch 30/50\n",
            "44/44 [==============================] - 14s 324ms/step - loss: 0.2533 - accuracy: 0.9110 - lr: 0.0010\n",
            "Epoch 31/50\n",
            "44/44 [==============================] - 14s 325ms/step - loss: 0.2736 - accuracy: 0.9004 - lr: 0.0010\n",
            "Epoch 32/50\n",
            "44/44 [==============================] - 14s 327ms/step - loss: 0.2824 - accuracy: 0.9009 - lr: 0.0010\n",
            "Epoch 33/50\n",
            "44/44 [==============================] - 16s 355ms/step - loss: 0.2932 - accuracy: 0.8883 - lr: 0.0010\n",
            "Epoch 34/50\n",
            "44/44 [==============================] - 15s 331ms/step - loss: 0.2517 - accuracy: 0.9066 - lr: 0.0010\n",
            "Epoch 35/50\n",
            "44/44 [==============================] - 14s 328ms/step - loss: 0.2819 - accuracy: 0.8955 - lr: 0.0010\n",
            "Epoch 36/50\n",
            "44/44 [==============================] - 15s 334ms/step - loss: 0.2800 - accuracy: 0.8969 - lr: 0.0010\n",
            "Epoch 37/50\n",
            "44/44 [==============================] - 14s 327ms/step - loss: 0.3042 - accuracy: 0.8886 - lr: 0.0010\n",
            "Epoch 38/50\n",
            "44/44 [==============================] - 14s 323ms/step - loss: 0.2799 - accuracy: 0.8918 - lr: 0.0010\n"
          ]
        },
        {
          "data": {
            "text/plain": [
              "<keras.callbacks.History at 0x7fd75015b750>"
            ]
          },
          "execution_count": 17,
          "metadata": {},
          "output_type": "execute_result"
        }
      ],
      "source": [
        "model.fit(x_train,\n",
        "          steps_per_epoch=len(x_train),\n",
        "          epochs=50,\n",
        "          callbacks=callbacks,)"
      ]
    },
    {
      "cell_type": "code",
      "execution_count": null,
      "metadata": {
        "id": "071nvIkcCVu7"
      },
      "outputs": [],
      "source": [
        "model.save('final_model.h5')"
      ]
    },
    {
      "cell_type": "code",
      "execution_count": null,
      "metadata": {
        "colab": {
          "base_uri": "https://localhost:8080/"
        },
        "id": "Rfk8uUCPCVsc",
        "outputId": "2bfede9b-ed0a-4efb-c3cc-0e0b952d8be7"
      },
      "outputs": [
        {
          "name": "stdout",
          "output_type": "stream",
          "text": [
            "1/1 [==============================] - 0s 15ms/step\n",
            "1\tdaisy\n",
            "1/1 [==============================] - 0s 14ms/step\n",
            "2\tsunflower\n",
            "1/1 [==============================] - 0s 16ms/step\n",
            "3\tsunflower\n",
            "1/1 [==============================] - 0s 14ms/step\n",
            "4\tdaisy\n",
            "1/1 [==============================] - 0s 14ms/step\n",
            "5\trose\n"
          ]
        }
      ],
      "source": [
        "for i in range(1,6):\n",
        "  image_path = f'/content/download ({i}).jpeg'\n",
        "  img = image.load_img(image_path,target_size=(64,64))\n",
        "  x = image.img_to_array(img)\n",
        "  x = np.expand_dims(x,axis=0)\n",
        "  pred = np.argmax(model.predict(x))\n",
        "  # print(pred, model.predict(x))\n",
        "  op = ['daisy','dandelion','rose','sunflower','tulip']\n",
        "  print(f'{i}\\t{op[pred]}')"
      ]
    }
  ],
  "metadata": {
    "accelerator": "GPU",
    "colab": {
      "collapsed_sections": [],
      "provenance": []
    },
    "kernelspec": {
      "display_name": "Python 3.10.8 64-bit",
      "language": "python",
      "name": "python3"
    },
    "language_info": {
      "name": "python",
      "version": "3.10.8"
    },
    "vscode": {
      "interpreter": {
        "hash": "97cc609b13305c559618ec78a438abc56230b9381f827f22d070313b9a1f3777"
      }
    }
  },
  "nbformat": 4,
  "nbformat_minor": 0
}
